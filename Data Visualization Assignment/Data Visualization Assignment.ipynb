{
 "cells": [
  {
   "cell_type": "markdown",
   "id": "a299c824",
   "metadata": {},
   "source": [
    "Topic: Data Visualization\n",
    "Note:\n",
    "-\tUse the dataset ‘Test_data.csv’ for data visualization.\n",
    "-\tYou may need to impute missing cases.\n",
    "-\tWrite your comment on every chart/graph\n"
   ]
  },
  {
   "cell_type": "code",
   "execution_count": 1,
   "id": "8860caba",
   "metadata": {},
   "outputs": [],
   "source": [
    "import pandas as pd\n",
    "import numpy as np\n",
    "import matplotlib.pyplot as plt\n",
    "import seaborn as sns\n",
    "%matplotlib inline"
   ]
  },
  {
   "cell_type": "code",
   "execution_count": 2,
   "id": "6c176069",
   "metadata": {},
   "outputs": [
    {
     "data": {
      "text/html": [
       "<div>\n",
       "<style scoped>\n",
       "    .dataframe tbody tr th:only-of-type {\n",
       "        vertical-align: middle;\n",
       "    }\n",
       "\n",
       "    .dataframe tbody tr th {\n",
       "        vertical-align: top;\n",
       "    }\n",
       "\n",
       "    .dataframe thead th {\n",
       "        text-align: right;\n",
       "    }\n",
       "</style>\n",
       "<table border=\"1\" class=\"dataframe\">\n",
       "  <thead>\n",
       "    <tr style=\"text-align: right;\">\n",
       "      <th></th>\n",
       "      <th>year</th>\n",
       "      <th>country.name</th>\n",
       "      <th>life.expectancy</th>\n",
       "      <th>fertility.rate</th>\n",
       "      <th>population</th>\n",
       "      <th>GDP.per.capita.Current.USD</th>\n",
       "      <th>region.value</th>\n",
       "      <th>incomeLevel.value</th>\n",
       "    </tr>\n",
       "  </thead>\n",
       "  <tbody>\n",
       "    <tr>\n",
       "      <th>0</th>\n",
       "      <td>1997</td>\n",
       "      <td>Andorra</td>\n",
       "      <td>NaN</td>\n",
       "      <td>NaN</td>\n",
       "      <td>64147.0</td>\n",
       "      <td>18405.320100</td>\n",
       "      <td>Europe &amp; Central Asia</td>\n",
       "      <td>High income</td>\n",
       "    </tr>\n",
       "    <tr>\n",
       "      <th>1</th>\n",
       "      <td>1976</td>\n",
       "      <td>Andorra</td>\n",
       "      <td>NaN</td>\n",
       "      <td>NaN</td>\n",
       "      <td>31781.0</td>\n",
       "      <td>7151.570481</td>\n",
       "      <td>Europe &amp; Central Asia</td>\n",
       "      <td>High income</td>\n",
       "    </tr>\n",
       "    <tr>\n",
       "      <th>2</th>\n",
       "      <td>1984</td>\n",
       "      <td>Andorra</td>\n",
       "      <td>NaN</td>\n",
       "      <td>NaN</td>\n",
       "      <td>42704.0</td>\n",
       "      <td>7729.324115</td>\n",
       "      <td>Europe &amp; Central Asia</td>\n",
       "      <td>High income</td>\n",
       "    </tr>\n",
       "    <tr>\n",
       "      <th>3</th>\n",
       "      <td>2003</td>\n",
       "      <td>Andorra</td>\n",
       "      <td>NaN</td>\n",
       "      <td>NaN</td>\n",
       "      <td>74783.0</td>\n",
       "      <td>31742.992580</td>\n",
       "      <td>Europe &amp; Central Asia</td>\n",
       "      <td>High income</td>\n",
       "    </tr>\n",
       "    <tr>\n",
       "      <th>4</th>\n",
       "      <td>1970</td>\n",
       "      <td>Andorra</td>\n",
       "      <td>NaN</td>\n",
       "      <td>NaN</td>\n",
       "      <td>24279.0</td>\n",
       "      <td>3238.091462</td>\n",
       "      <td>Europe &amp; Central Asia</td>\n",
       "      <td>High income</td>\n",
       "    </tr>\n",
       "  </tbody>\n",
       "</table>\n",
       "</div>"
      ],
      "text/plain": [
       "   year country.name  life.expectancy  fertility.rate  population  \\\n",
       "0  1997      Andorra              NaN             NaN     64147.0   \n",
       "1  1976      Andorra              NaN             NaN     31781.0   \n",
       "2  1984      Andorra              NaN             NaN     42704.0   \n",
       "3  2003      Andorra              NaN             NaN     74783.0   \n",
       "4  1970      Andorra              NaN             NaN     24279.0   \n",
       "\n",
       "   GDP.per.capita.Current.USD           region.value incomeLevel.value  \n",
       "0                18405.320100  Europe & Central Asia       High income  \n",
       "1                 7151.570481  Europe & Central Asia       High income  \n",
       "2                 7729.324115  Europe & Central Asia       High income  \n",
       "3                31742.992580  Europe & Central Asia       High income  \n",
       "4                 3238.091462  Europe & Central Asia       High income  "
      ]
     },
     "execution_count": 2,
     "metadata": {},
     "output_type": "execute_result"
    }
   ],
   "source": [
    "#reading data\n",
    "data = pd.read_csv('Test_data.csv')\n",
    "df = data.copy()\n",
    "df.head()"
   ]
  },
  {
   "cell_type": "code",
   "execution_count": 3,
   "id": "6d4d98b7",
   "metadata": {},
   "outputs": [
    {
     "name": "stdout",
     "output_type": "stream",
     "text": [
      "<class 'pandas.core.frame.DataFrame'>\n",
      "RangeIndex: 11321 entries, 0 to 11320\n",
      "Data columns (total 8 columns):\n",
      " #   Column                      Non-Null Count  Dtype  \n",
      "---  ------                      --------------  -----  \n",
      " 0   year                        11321 non-null  int64  \n",
      " 1   country.name                11321 non-null  object \n",
      " 2   life.expectancy             9853 non-null   float64\n",
      " 3   fertility.rate              9874 non-null   float64\n",
      " 4   population                  11048 non-null  float64\n",
      " 5   GDP.per.capita.Current.USD  8233 non-null   float64\n",
      " 6   region.value                11321 non-null  object \n",
      " 7   incomeLevel.value           11321 non-null  object \n",
      "dtypes: float64(4), int64(1), object(3)\n",
      "memory usage: 707.7+ KB\n"
     ]
    }
   ],
   "source": [
    "df.info()"
   ]
  },
  {
   "cell_type": "code",
   "execution_count": 4,
   "id": "6741d4ba",
   "metadata": {},
   "outputs": [
    {
     "data": {
      "text/plain": [
       "year                             0\n",
       "country.name                     0\n",
       "life.expectancy               1468\n",
       "fertility.rate                1447\n",
       "population                     273\n",
       "GDP.per.capita.Current.USD    3088\n",
       "region.value                     0\n",
       "incomeLevel.value                0\n",
       "dtype: int64"
      ]
     },
     "execution_count": 4,
     "metadata": {},
     "output_type": "execute_result"
    }
   ],
   "source": [
    "df.isnull().sum()"
   ]
  },
  {
   "cell_type": "code",
   "execution_count": 5,
   "id": "01beac21",
   "metadata": {},
   "outputs": [
    {
     "data": {
      "text/plain": [
       "region.value                incomeLevel.value  \n",
       "East Asia & Pacific         High income            72.841414\n",
       "                            Low income             64.173621\n",
       "                            Lower middle income    58.372733\n",
       "                            Upper middle income    66.422056\n",
       "Europe & Central Asia       High income            74.291974\n",
       "                            Lower middle income    66.272488\n",
       "                            Upper middle income    68.805284\n",
       "Latin America & Caribbean   High income            71.021122\n",
       "                            Low income             53.112995\n",
       "                            Lower middle income    60.249441\n",
       "                            Upper middle income    68.022319\n",
       "Middle East & North Africa  High income            70.033624\n",
       "                            Lower middle income    61.460214\n",
       "                            Upper middle income    64.585678\n",
       "North America               High income            76.762464\n",
       "South Asia                  Low income             49.596822\n",
       "                            Lower middle income    58.216190\n",
       "                            Upper middle income    58.566733\n",
       "Sub-Saharan Africa          High income            72.195854\n",
       "                            Low income             47.270176\n",
       "                            Lower middle income    53.586189\n",
       "                            Upper middle income    54.481757\n",
       "Name: life.expectancy, dtype: float64"
      ]
     },
     "execution_count": 5,
     "metadata": {},
     "output_type": "execute_result"
    }
   ],
   "source": [
    "df.groupby(['region.value','incomeLevel.value']).mean()['life.expectancy']"
   ]
  },
  {
   "cell_type": "code",
   "execution_count": 6,
   "id": "4ce78454",
   "metadata": {},
   "outputs": [],
   "source": [
    "def null(col1,col2,null_col): \n",
    "    '''Function to fill null values with mean based on another columns\n",
    "    col1 ,col2 = column dependent on null_col\n",
    "       null_col = column having null values'''\n",
    "    groupby_col1_col2 = df.groupby([col1,col2]).mean()[null_col]\n",
    "    l = []\n",
    "    for i,j in groupby_col1_col2.index:\n",
    "            df1 = df[df[col1] == i]\n",
    "            df2 = df1[df1[col2] == j]\n",
    "            series = df2[null_col]\n",
    "            series.fillna(value = groupby_col1_col2[i][j],inplace = True)\n",
    "            l.append(series)\n",
    "    df3 = pd.concat(l[0:])\n",
    "    df[null_col] = df3.sort_index()\n",
    "    \n",
    "    return df\n"
   ]
  },
  {
   "cell_type": "code",
   "execution_count": 7,
   "id": "593b8019",
   "metadata": {},
   "outputs": [
    {
     "name": "stderr",
     "output_type": "stream",
     "text": [
      "C:\\Users\\jaych\\anaconda3\\lib\\site-packages\\pandas\\core\\series.py:4463: SettingWithCopyWarning: \n",
      "A value is trying to be set on a copy of a slice from a DataFrame\n",
      "\n",
      "See the caveats in the documentation: https://pandas.pydata.org/pandas-docs/stable/user_guide/indexing.html#returning-a-view-versus-a-copy\n",
      "  return super().fillna(\n"
     ]
    },
    {
     "data": {
      "text/html": [
       "<div>\n",
       "<style scoped>\n",
       "    .dataframe tbody tr th:only-of-type {\n",
       "        vertical-align: middle;\n",
       "    }\n",
       "\n",
       "    .dataframe tbody tr th {\n",
       "        vertical-align: top;\n",
       "    }\n",
       "\n",
       "    .dataframe thead th {\n",
       "        text-align: right;\n",
       "    }\n",
       "</style>\n",
       "<table border=\"1\" class=\"dataframe\">\n",
       "  <thead>\n",
       "    <tr style=\"text-align: right;\">\n",
       "      <th></th>\n",
       "      <th>year</th>\n",
       "      <th>country.name</th>\n",
       "      <th>life.expectancy</th>\n",
       "      <th>fertility.rate</th>\n",
       "      <th>population</th>\n",
       "      <th>GDP.per.capita.Current.USD</th>\n",
       "      <th>region.value</th>\n",
       "      <th>incomeLevel.value</th>\n",
       "    </tr>\n",
       "  </thead>\n",
       "  <tbody>\n",
       "    <tr>\n",
       "      <th>0</th>\n",
       "      <td>1997</td>\n",
       "      <td>Andorra</td>\n",
       "      <td>74.291974</td>\n",
       "      <td>1.926804</td>\n",
       "      <td>64147.0</td>\n",
       "      <td>18405.320100</td>\n",
       "      <td>Europe &amp; Central Asia</td>\n",
       "      <td>High income</td>\n",
       "    </tr>\n",
       "    <tr>\n",
       "      <th>1</th>\n",
       "      <td>1976</td>\n",
       "      <td>Andorra</td>\n",
       "      <td>74.291974</td>\n",
       "      <td>1.926804</td>\n",
       "      <td>31781.0</td>\n",
       "      <td>7151.570481</td>\n",
       "      <td>Europe &amp; Central Asia</td>\n",
       "      <td>High income</td>\n",
       "    </tr>\n",
       "    <tr>\n",
       "      <th>2</th>\n",
       "      <td>1984</td>\n",
       "      <td>Andorra</td>\n",
       "      <td>74.291974</td>\n",
       "      <td>1.926804</td>\n",
       "      <td>42704.0</td>\n",
       "      <td>7729.324115</td>\n",
       "      <td>Europe &amp; Central Asia</td>\n",
       "      <td>High income</td>\n",
       "    </tr>\n",
       "    <tr>\n",
       "      <th>3</th>\n",
       "      <td>2003</td>\n",
       "      <td>Andorra</td>\n",
       "      <td>74.291974</td>\n",
       "      <td>1.926804</td>\n",
       "      <td>74783.0</td>\n",
       "      <td>31742.992580</td>\n",
       "      <td>Europe &amp; Central Asia</td>\n",
       "      <td>High income</td>\n",
       "    </tr>\n",
       "    <tr>\n",
       "      <th>4</th>\n",
       "      <td>1970</td>\n",
       "      <td>Andorra</td>\n",
       "      <td>74.291974</td>\n",
       "      <td>1.926804</td>\n",
       "      <td>24279.0</td>\n",
       "      <td>3238.091462</td>\n",
       "      <td>Europe &amp; Central Asia</td>\n",
       "      <td>High income</td>\n",
       "    </tr>\n",
       "    <tr>\n",
       "      <th>...</th>\n",
       "      <td>...</td>\n",
       "      <td>...</td>\n",
       "      <td>...</td>\n",
       "      <td>...</td>\n",
       "      <td>...</td>\n",
       "      <td>...</td>\n",
       "      <td>...</td>\n",
       "      <td>...</td>\n",
       "    </tr>\n",
       "    <tr>\n",
       "      <th>11316</th>\n",
       "      <td>1974</td>\n",
       "      <td>South Africa</td>\n",
       "      <td>54.213415</td>\n",
       "      <td>5.338000</td>\n",
       "      <td>24189837.0</td>\n",
       "      <td>1476.973213</td>\n",
       "      <td>Sub-Saharan Africa</td>\n",
       "      <td>Upper middle income</td>\n",
       "    </tr>\n",
       "    <tr>\n",
       "      <th>11317</th>\n",
       "      <td>1997</td>\n",
       "      <td>South Africa</td>\n",
       "      <td>59.613195</td>\n",
       "      <td>2.983000</td>\n",
       "      <td>40926063.0</td>\n",
       "      <td>3728.333992</td>\n",
       "      <td>Sub-Saharan Africa</td>\n",
       "      <td>Upper middle income</td>\n",
       "    </tr>\n",
       "    <tr>\n",
       "      <th>11318</th>\n",
       "      <td>1999</td>\n",
       "      <td>South Africa</td>\n",
       "      <td>57.156683</td>\n",
       "      <td>2.899000</td>\n",
       "      <td>42923485.0</td>\n",
       "      <td>3183.149769</td>\n",
       "      <td>Sub-Saharan Africa</td>\n",
       "      <td>Upper middle income</td>\n",
       "    </tr>\n",
       "    <tr>\n",
       "      <th>11319</th>\n",
       "      <td>2006</td>\n",
       "      <td>South Africa</td>\n",
       "      <td>51.613707</td>\n",
       "      <td>2.627000</td>\n",
       "      <td>47921682.0</td>\n",
       "      <td>5668.386771</td>\n",
       "      <td>Sub-Saharan Africa</td>\n",
       "      <td>Upper middle income</td>\n",
       "    </tr>\n",
       "    <tr>\n",
       "      <th>11320</th>\n",
       "      <td>2001</td>\n",
       "      <td>South Africa</td>\n",
       "      <td>54.570805</td>\n",
       "      <td>2.834000</td>\n",
       "      <td>44909738.0</td>\n",
       "      <td>2705.780204</td>\n",
       "      <td>Sub-Saharan Africa</td>\n",
       "      <td>Upper middle income</td>\n",
       "    </tr>\n",
       "  </tbody>\n",
       "</table>\n",
       "<p>11321 rows × 8 columns</p>\n",
       "</div>"
      ],
      "text/plain": [
       "       year  country.name  life.expectancy  fertility.rate  population  \\\n",
       "0      1997       Andorra        74.291974        1.926804     64147.0   \n",
       "1      1976       Andorra        74.291974        1.926804     31781.0   \n",
       "2      1984       Andorra        74.291974        1.926804     42704.0   \n",
       "3      2003       Andorra        74.291974        1.926804     74783.0   \n",
       "4      1970       Andorra        74.291974        1.926804     24279.0   \n",
       "...     ...           ...              ...             ...         ...   \n",
       "11316  1974  South Africa        54.213415        5.338000  24189837.0   \n",
       "11317  1997  South Africa        59.613195        2.983000  40926063.0   \n",
       "11318  1999  South Africa        57.156683        2.899000  42923485.0   \n",
       "11319  2006  South Africa        51.613707        2.627000  47921682.0   \n",
       "11320  2001  South Africa        54.570805        2.834000  44909738.0   \n",
       "\n",
       "       GDP.per.capita.Current.USD           region.value    incomeLevel.value  \n",
       "0                    18405.320100  Europe & Central Asia          High income  \n",
       "1                     7151.570481  Europe & Central Asia          High income  \n",
       "2                     7729.324115  Europe & Central Asia          High income  \n",
       "3                    31742.992580  Europe & Central Asia          High income  \n",
       "4                     3238.091462  Europe & Central Asia          High income  \n",
       "...                           ...                    ...                  ...  \n",
       "11316                 1476.973213    Sub-Saharan Africa   Upper middle income  \n",
       "11317                 3728.333992    Sub-Saharan Africa   Upper middle income  \n",
       "11318                 3183.149769    Sub-Saharan Africa   Upper middle income  \n",
       "11319                 5668.386771    Sub-Saharan Africa   Upper middle income  \n",
       "11320                 2705.780204    Sub-Saharan Africa   Upper middle income  \n",
       "\n",
       "[11321 rows x 8 columns]"
      ]
     },
     "execution_count": 7,
     "metadata": {},
     "output_type": "execute_result"
    }
   ],
   "source": [
    "null('region.value','incomeLevel.value','life.expectancy')\n",
    "null('region.value','incomeLevel.value','fertility.rate')\n",
    "null('region.value','incomeLevel.value','population')\n",
    "null('region.value','incomeLevel.value','GDP.per.capita.Current.USD')"
   ]
  },
  {
   "cell_type": "code",
   "execution_count": 8,
   "id": "bc2cacde",
   "metadata": {},
   "outputs": [
    {
     "data": {
      "text/plain": [
       "year                           0\n",
       "country.name                   0\n",
       "life.expectancy                0\n",
       "fertility.rate                 0\n",
       "population                     0\n",
       "GDP.per.capita.Current.USD    57\n",
       "region.value                   0\n",
       "incomeLevel.value              0\n",
       "dtype: int64"
      ]
     },
     "execution_count": 8,
     "metadata": {},
     "output_type": "execute_result"
    }
   ],
   "source": [
    "df.isnull().sum()"
   ]
  },
  {
   "cell_type": "code",
   "execution_count": 14,
   "id": "65dafcbf",
   "metadata": {},
   "outputs": [
    {
     "data": {
      "text/html": [
       "<div>\n",
       "<style scoped>\n",
       "    .dataframe tbody tr th:only-of-type {\n",
       "        vertical-align: middle;\n",
       "    }\n",
       "\n",
       "    .dataframe tbody tr th {\n",
       "        vertical-align: top;\n",
       "    }\n",
       "\n",
       "    .dataframe thead th {\n",
       "        text-align: right;\n",
       "    }\n",
       "</style>\n",
       "<table border=\"1\" class=\"dataframe\">\n",
       "  <thead>\n",
       "    <tr style=\"text-align: right;\">\n",
       "      <th></th>\n",
       "      <th></th>\n",
       "      <th>count</th>\n",
       "      <th>mean</th>\n",
       "      <th>std</th>\n",
       "      <th>min</th>\n",
       "      <th>25%</th>\n",
       "      <th>50%</th>\n",
       "      <th>75%</th>\n",
       "      <th>max</th>\n",
       "    </tr>\n",
       "    <tr>\n",
       "      <th>region.value</th>\n",
       "      <th>incomeLevel.value</th>\n",
       "      <th></th>\n",
       "      <th></th>\n",
       "      <th></th>\n",
       "      <th></th>\n",
       "      <th></th>\n",
       "      <th></th>\n",
       "      <th></th>\n",
       "      <th></th>\n",
       "    </tr>\n",
       "  </thead>\n",
       "  <tbody>\n",
       "    <tr>\n",
       "      <th rowspan=\"4\" valign=\"top\">East Asia &amp; Pacific</th>\n",
       "      <th>High income</th>\n",
       "      <td>741.0</td>\n",
       "      <td>15543.988618</td>\n",
       "      <td>12465.997751</td>\n",
       "      <td>91.480593</td>\n",
       "      <td>6995.155959</td>\n",
       "      <td>15543.988618</td>\n",
       "      <td>16144.008190</td>\n",
       "      <td>96074.836960</td>\n",
       "    </tr>\n",
       "    <tr>\n",
       "      <th>Low income</th>\n",
       "      <td>0.0</td>\n",
       "      <td>NaN</td>\n",
       "      <td>NaN</td>\n",
       "      <td>NaN</td>\n",
       "      <td>NaN</td>\n",
       "      <td>NaN</td>\n",
       "      <td>NaN</td>\n",
       "      <td>NaN</td>\n",
       "    </tr>\n",
       "    <tr>\n",
       "      <th>Lower middle income</th>\n",
       "      <td>741.0</td>\n",
       "      <td>1103.864781</td>\n",
       "      <td>753.343456</td>\n",
       "      <td>56.472354</td>\n",
       "      <td>658.909540</td>\n",
       "      <td>1103.864781</td>\n",
       "      <td>1103.864781</td>\n",
       "      <td>4400.614515</td>\n",
       "    </tr>\n",
       "    <tr>\n",
       "      <th>Upper middle income</th>\n",
       "      <td>399.0</td>\n",
       "      <td>2641.700185</td>\n",
       "      <td>2355.332934</td>\n",
       "      <td>70.122082</td>\n",
       "      <td>963.559262</td>\n",
       "      <td>2641.700185</td>\n",
       "      <td>2641.700185</td>\n",
       "      <td>13498.661410</td>\n",
       "    </tr>\n",
       "    <tr>\n",
       "      <th rowspan=\"3\" valign=\"top\">Europe &amp; Central Asia</th>\n",
       "      <th>High income</th>\n",
       "      <td>2052.0</td>\n",
       "      <td>22993.759203</td>\n",
       "      <td>20522.427938</td>\n",
       "      <td>360.499299</td>\n",
       "      <td>9869.626666</td>\n",
       "      <td>22993.759203</td>\n",
       "      <td>23078.370295</td>\n",
       "      <td>193648.132200</td>\n",
       "    </tr>\n",
       "    <tr>\n",
       "      <th>Lower middle income</th>\n",
       "      <td>285.0</td>\n",
       "      <td>1194.444027</td>\n",
       "      <td>714.983559</td>\n",
       "      <td>139.109142</td>\n",
       "      <td>925.911888</td>\n",
       "      <td>1194.444027</td>\n",
       "      <td>1194.444027</td>\n",
       "      <td>4073.819117</td>\n",
       "    </tr>\n",
       "    <tr>\n",
       "      <th>Upper middle income</th>\n",
       "      <td>719.0</td>\n",
       "      <td>3321.285297</td>\n",
       "      <td>2026.952540</td>\n",
       "      <td>218.492166</td>\n",
       "      <td>2319.294668</td>\n",
       "      <td>3321.285297</td>\n",
       "      <td>3321.285297</td>\n",
       "      <td>15543.697840</td>\n",
       "    </tr>\n",
       "    <tr>\n",
       "      <th rowspan=\"4\" valign=\"top\">Latin America &amp; Caribbean</th>\n",
       "      <th>High income</th>\n",
       "      <td>741.0</td>\n",
       "      <td>8758.949360</td>\n",
       "      <td>5597.286885</td>\n",
       "      <td>241.550005</td>\n",
       "      <td>6443.482051</td>\n",
       "      <td>8758.949360</td>\n",
       "      <td>8758.949360</td>\n",
       "      <td>64104.751600</td>\n",
       "    </tr>\n",
       "    <tr>\n",
       "      <th>Low income</th>\n",
       "      <td>57.0</td>\n",
       "      <td>518.182491</td>\n",
       "      <td>118.969199</td>\n",
       "      <td>249.412139</td>\n",
       "      <td>494.233773</td>\n",
       "      <td>518.182491</td>\n",
       "      <td>518.182491</td>\n",
       "      <td>830.150055</td>\n",
       "    </tr>\n",
       "    <tr>\n",
       "      <th>Lower middle income</th>\n",
       "      <td>285.0</td>\n",
       "      <td>1095.498434</td>\n",
       "      <td>892.429579</td>\n",
       "      <td>128.035067</td>\n",
       "      <td>415.629879</td>\n",
       "      <td>857.258796</td>\n",
       "      <td>1350.587222</td>\n",
       "      <td>4219.350330</td>\n",
       "    </tr>\n",
       "    <tr>\n",
       "      <th>Upper middle income</th>\n",
       "      <td>1083.0</td>\n",
       "      <td>2763.486853</td>\n",
       "      <td>2460.509220</td>\n",
       "      <td>161.420095</td>\n",
       "      <td>950.237967</td>\n",
       "      <td>2217.697802</td>\n",
       "      <td>3595.655356</td>\n",
       "      <td>13431.878340</td>\n",
       "    </tr>\n",
       "    <tr>\n",
       "      <th rowspan=\"3\" valign=\"top\">Middle East &amp; North Africa</th>\n",
       "      <th>High income</th>\n",
       "      <td>399.0</td>\n",
       "      <td>14954.942419</td>\n",
       "      <td>14099.035148</td>\n",
       "      <td>101.246821</td>\n",
       "      <td>6388.208167</td>\n",
       "      <td>14010.892500</td>\n",
       "      <td>17615.791605</td>\n",
       "      <td>96732.529030</td>\n",
       "    </tr>\n",
       "    <tr>\n",
       "      <th>Lower middle income</th>\n",
       "      <td>285.0</td>\n",
       "      <td>1237.546822</td>\n",
       "      <td>887.410792</td>\n",
       "      <td>158.893299</td>\n",
       "      <td>720.410057</td>\n",
       "      <td>1208.697220</td>\n",
       "      <td>1369.526112</td>\n",
       "      <td>4342.823177</td>\n",
       "    </tr>\n",
       "    <tr>\n",
       "      <th>Upper middle income</th>\n",
       "      <td>342.0</td>\n",
       "      <td>3095.044793</td>\n",
       "      <td>2284.990217</td>\n",
       "      <td>171.209137</td>\n",
       "      <td>1601.864151</td>\n",
       "      <td>3095.044793</td>\n",
       "      <td>3653.604695</td>\n",
       "      <td>14231.600890</td>\n",
       "    </tr>\n",
       "    <tr>\n",
       "      <th>North America</th>\n",
       "      <th>High income</th>\n",
       "      <td>114.0</td>\n",
       "      <td>25777.618224</td>\n",
       "      <td>24549.370751</td>\n",
       "      <td>1902.402119</td>\n",
       "      <td>6030.308914</td>\n",
       "      <td>20234.047190</td>\n",
       "      <td>35639.621875</td>\n",
       "      <td>93605.748170</td>\n",
       "    </tr>\n",
       "    <tr>\n",
       "      <th rowspan=\"3\" valign=\"top\">South Asia</th>\n",
       "      <th>Low income</th>\n",
       "      <td>114.0</td>\n",
       "      <td>239.980961</td>\n",
       "      <td>169.269512</td>\n",
       "      <td>46.277923</td>\n",
       "      <td>130.064392</td>\n",
       "      <td>209.407613</td>\n",
       "      <td>248.325598</td>\n",
       "      <td>732.298716</td>\n",
       "    </tr>\n",
       "    <tr>\n",
       "      <th>Lower middle income</th>\n",
       "      <td>285.0</td>\n",
       "      <td>599.430742</td>\n",
       "      <td>637.387323</td>\n",
       "      <td>82.540780</td>\n",
       "      <td>213.181889</td>\n",
       "      <td>406.531741</td>\n",
       "      <td>640.600522</td>\n",
       "      <td>3926.174396</td>\n",
       "    </tr>\n",
       "    <tr>\n",
       "      <th>Upper middle income</th>\n",
       "      <td>57.0</td>\n",
       "      <td>2862.072138</td>\n",
       "      <td>1907.680198</td>\n",
       "      <td>268.277986</td>\n",
       "      <td>1452.589319</td>\n",
       "      <td>2862.072138</td>\n",
       "      <td>3028.343042</td>\n",
       "      <td>7681.075767</td>\n",
       "    </tr>\n",
       "    <tr>\n",
       "      <th rowspan=\"4\" valign=\"top\">Sub-Saharan Africa</th>\n",
       "      <th>High income</th>\n",
       "      <td>57.0</td>\n",
       "      <td>5136.517792</td>\n",
       "      <td>4662.126193</td>\n",
       "      <td>270.279661</td>\n",
       "      <td>737.770648</td>\n",
       "      <td>4122.541962</td>\n",
       "      <td>7747.612159</td>\n",
       "      <td>15695.898340</td>\n",
       "    </tr>\n",
       "    <tr>\n",
       "      <th>Low income</th>\n",
       "      <td>1425.0</td>\n",
       "      <td>308.763070</td>\n",
       "      <td>192.674959</td>\n",
       "      <td>0.000000</td>\n",
       "      <td>184.319415</td>\n",
       "      <td>308.763070</td>\n",
       "      <td>350.490282</td>\n",
       "      <td>1696.145667</td>\n",
       "    </tr>\n",
       "    <tr>\n",
       "      <th>Lower middle income</th>\n",
       "      <td>684.0</td>\n",
       "      <td>750.869958</td>\n",
       "      <td>690.731974</td>\n",
       "      <td>40.614072</td>\n",
       "      <td>297.757413</td>\n",
       "      <td>597.780877</td>\n",
       "      <td>915.207139</td>\n",
       "      <td>4093.384237</td>\n",
       "    </tr>\n",
       "    <tr>\n",
       "      <th>Upper middle income</th>\n",
       "      <td>399.0</td>\n",
       "      <td>3363.283536</td>\n",
       "      <td>3390.438607</td>\n",
       "      <td>35.367727</td>\n",
       "      <td>924.226390</td>\n",
       "      <td>3345.827626</td>\n",
       "      <td>3985.936768</td>\n",
       "      <td>23347.660850</td>\n",
       "    </tr>\n",
       "  </tbody>\n",
       "</table>\n",
       "</div>"
      ],
      "text/plain": [
       "                                                 count          mean  \\\n",
       "region.value               incomeLevel.value                           \n",
       "East Asia & Pacific        High income           741.0  15543.988618   \n",
       "                           Low income              0.0           NaN   \n",
       "                           Lower middle income   741.0   1103.864781   \n",
       "                           Upper middle income   399.0   2641.700185   \n",
       "Europe & Central Asia      High income          2052.0  22993.759203   \n",
       "                           Lower middle income   285.0   1194.444027   \n",
       "                           Upper middle income   719.0   3321.285297   \n",
       "Latin America & Caribbean  High income           741.0   8758.949360   \n",
       "                           Low income             57.0    518.182491   \n",
       "                           Lower middle income   285.0   1095.498434   \n",
       "                           Upper middle income  1083.0   2763.486853   \n",
       "Middle East & North Africa High income           399.0  14954.942419   \n",
       "                           Lower middle income   285.0   1237.546822   \n",
       "                           Upper middle income   342.0   3095.044793   \n",
       "North America              High income           114.0  25777.618224   \n",
       "South Asia                 Low income            114.0    239.980961   \n",
       "                           Lower middle income   285.0    599.430742   \n",
       "                           Upper middle income    57.0   2862.072138   \n",
       "Sub-Saharan Africa         High income            57.0   5136.517792   \n",
       "                           Low income           1425.0    308.763070   \n",
       "                           Lower middle income   684.0    750.869958   \n",
       "                           Upper middle income   399.0   3363.283536   \n",
       "\n",
       "                                                         std          min  \\\n",
       "region.value               incomeLevel.value                                \n",
       "East Asia & Pacific        High income          12465.997751    91.480593   \n",
       "                           Low income                    NaN          NaN   \n",
       "                           Lower middle income    753.343456    56.472354   \n",
       "                           Upper middle income   2355.332934    70.122082   \n",
       "Europe & Central Asia      High income          20522.427938   360.499299   \n",
       "                           Lower middle income    714.983559   139.109142   \n",
       "                           Upper middle income   2026.952540   218.492166   \n",
       "Latin America & Caribbean  High income           5597.286885   241.550005   \n",
       "                           Low income             118.969199   249.412139   \n",
       "                           Lower middle income    892.429579   128.035067   \n",
       "                           Upper middle income   2460.509220   161.420095   \n",
       "Middle East & North Africa High income          14099.035148   101.246821   \n",
       "                           Lower middle income    887.410792   158.893299   \n",
       "                           Upper middle income   2284.990217   171.209137   \n",
       "North America              High income          24549.370751  1902.402119   \n",
       "South Asia                 Low income             169.269512    46.277923   \n",
       "                           Lower middle income    637.387323    82.540780   \n",
       "                           Upper middle income   1907.680198   268.277986   \n",
       "Sub-Saharan Africa         High income           4662.126193   270.279661   \n",
       "                           Low income             192.674959     0.000000   \n",
       "                           Lower middle income    690.731974    40.614072   \n",
       "                           Upper middle income   3390.438607    35.367727   \n",
       "\n",
       "                                                        25%           50%  \\\n",
       "region.value               incomeLevel.value                                \n",
       "East Asia & Pacific        High income          6995.155959  15543.988618   \n",
       "                           Low income                   NaN           NaN   \n",
       "                           Lower middle income   658.909540   1103.864781   \n",
       "                           Upper middle income   963.559262   2641.700185   \n",
       "Europe & Central Asia      High income          9869.626666  22993.759203   \n",
       "                           Lower middle income   925.911888   1194.444027   \n",
       "                           Upper middle income  2319.294668   3321.285297   \n",
       "Latin America & Caribbean  High income          6443.482051   8758.949360   \n",
       "                           Low income            494.233773    518.182491   \n",
       "                           Lower middle income   415.629879    857.258796   \n",
       "                           Upper middle income   950.237967   2217.697802   \n",
       "Middle East & North Africa High income          6388.208167  14010.892500   \n",
       "                           Lower middle income   720.410057   1208.697220   \n",
       "                           Upper middle income  1601.864151   3095.044793   \n",
       "North America              High income          6030.308914  20234.047190   \n",
       "South Asia                 Low income            130.064392    209.407613   \n",
       "                           Lower middle income   213.181889    406.531741   \n",
       "                           Upper middle income  1452.589319   2862.072138   \n",
       "Sub-Saharan Africa         High income           737.770648   4122.541962   \n",
       "                           Low income            184.319415    308.763070   \n",
       "                           Lower middle income   297.757413    597.780877   \n",
       "                           Upper middle income   924.226390   3345.827626   \n",
       "\n",
       "                                                         75%            max  \n",
       "region.value               incomeLevel.value                                 \n",
       "East Asia & Pacific        High income          16144.008190   96074.836960  \n",
       "                           Low income                    NaN            NaN  \n",
       "                           Lower middle income   1103.864781    4400.614515  \n",
       "                           Upper middle income   2641.700185   13498.661410  \n",
       "Europe & Central Asia      High income          23078.370295  193648.132200  \n",
       "                           Lower middle income   1194.444027    4073.819117  \n",
       "                           Upper middle income   3321.285297   15543.697840  \n",
       "Latin America & Caribbean  High income           8758.949360   64104.751600  \n",
       "                           Low income             518.182491     830.150055  \n",
       "                           Lower middle income   1350.587222    4219.350330  \n",
       "                           Upper middle income   3595.655356   13431.878340  \n",
       "Middle East & North Africa High income          17615.791605   96732.529030  \n",
       "                           Lower middle income   1369.526112    4342.823177  \n",
       "                           Upper middle income   3653.604695   14231.600890  \n",
       "North America              High income          35639.621875   93605.748170  \n",
       "South Asia                 Low income             248.325598     732.298716  \n",
       "                           Lower middle income    640.600522    3926.174396  \n",
       "                           Upper middle income   3028.343042    7681.075767  \n",
       "Sub-Saharan Africa         High income           7747.612159   15695.898340  \n",
       "                           Low income             350.490282    1696.145667  \n",
       "                           Lower middle income    915.207139    4093.384237  \n",
       "                           Upper middle income   3985.936768   23347.660850  "
      ]
     },
     "execution_count": 14,
     "metadata": {},
     "output_type": "execute_result"
    }
   ],
   "source": [
    "df.groupby(['region.value','incomeLevel.value']).describe()['GDP.per.capita.Current.USD']"
   ]
  },
  {
   "cell_type": "code",
   "execution_count": 17,
   "id": "823a175d",
   "metadata": {},
   "outputs": [
    {
     "data": {
      "text/plain": [
       "incomeLevel.value\n",
       "High income            18126.248280\n",
       "Low income               311.329327\n",
       "Lower middle income      977.672928\n",
       "Upper middle income     3000.497608\n",
       "Name: GDP.per.capita.Current.USD, dtype: float64"
      ]
     },
     "execution_count": 17,
     "metadata": {},
     "output_type": "execute_result"
    }
   ],
   "source": [
    "df.groupby(['incomeLevel.value']).mean()['GDP.per.capita.Current.USD']"
   ]
  },
  {
   "cell_type": "code",
   "execution_count": 12,
   "id": "a89ee671",
   "metadata": {},
   "outputs": [
    {
     "data": {
      "text/plain": [
       "region.value                incomeLevel.value  \n",
       "East Asia & Pacific         High income            15543.988618\n",
       "                            Low income                      NaN\n",
       "                            Lower middle income     1103.864781\n",
       "                            Upper middle income     2641.700185\n",
       "Europe & Central Asia       High income            22993.759203\n",
       "                            Lower middle income     1194.444027\n",
       "                            Upper middle income     3321.285297\n",
       "Latin America & Caribbean   High income             8758.949360\n",
       "                            Low income               518.182491\n",
       "                            Lower middle income     1095.498434\n",
       "                            Upper middle income     2763.486853\n",
       "Middle East & North Africa  High income            14954.942419\n",
       "                            Lower middle income     1237.546822\n",
       "                            Upper middle income     3095.044793\n",
       "North America               High income            25777.618224\n",
       "South Asia                  Low income               239.980961\n",
       "                            Lower middle income      599.430742\n",
       "                            Upper middle income     2862.072138\n",
       "Sub-Saharan Africa          High income             5136.517792\n",
       "                            Low income               308.763070\n",
       "                            Lower middle income      750.869958\n",
       "                            Upper middle income     3363.283536\n",
       "Name: GDP.per.capita.Current.USD, dtype: float64"
      ]
     },
     "execution_count": 12,
     "metadata": {},
     "output_type": "execute_result"
    }
   ],
   "source": [
    "df_groupby_reg_inc = df.groupby(['region.value','incomeLevel.value']).mean()['GDP.per.capita.Current.USD']\n",
    "df_groupby_reg_inc"
   ]
  },
  {
   "cell_type": "code",
   "execution_count": 18,
   "id": "91dc3be7",
   "metadata": {},
   "outputs": [
    {
     "name": "stdout",
     "output_type": "stream",
     "text": [
      "proprotion of Low and lower middle income in Latin America & Caribbean:- 0.4730107087294894\n",
      "proprotion of Low and lower middle income in South Asia   :- 0.40034810473345717\n",
      "proprotion of Low and lower middle income in Sub-Saharan Africa :- 0.4112071158115141\n",
      "Mean Proportion of Low and lower middle income:- 0.4281886430914869\n"
     ]
    }
   ],
   "source": [
    "p1 = df_groupby_reg_inc['Latin America & Caribbean ','Low income'] / df_groupby_reg_inc['Latin America & Caribbean ','Lower middle income']\n",
    "print('proprotion of Low and lower middle income in Latin America & Caribbean:-',p1)\n",
    "p2 = df_groupby_reg_inc['South Asia','Low income'] / df_groupby_reg_inc['South Asia','Lower middle income']\n",
    "print('proprotion of Low and lower middle income in South Asia   :-',p2)\n",
    "p3 = df_groupby_reg_inc['Sub-Saharan Africa ','Low income'] / df_groupby_reg_inc['Sub-Saharan Africa ','Lower middle income']\n",
    "print('proprotion of Low and lower middle income in Sub-Saharan Africa :-',p3)\n",
    "mean_prop = np.mean([p1,p2,p3])\n",
    "print('Mean Proportion of Low and lower middle income:-',mean_prop)"
   ]
  },
  {
   "cell_type": "code",
   "execution_count": 19,
   "id": "60ea8912",
   "metadata": {},
   "outputs": [
    {
     "data": {
      "text/plain": [
       "631.2024184070175"
      ]
     },
     "execution_count": 19,
     "metadata": {},
     "output_type": "execute_result"
    }
   ],
   "source": [
    "to_fill = df_groupby_reg_inc['East Asia & Pacific','Lower middle income'] - mean_prop * df_groupby_reg_inc['East Asia & Pacific','Lower middle income']\n",
    "to_fill"
   ]
  },
  {
   "cell_type": "code",
   "execution_count": 20,
   "id": "b1d9ae2b",
   "metadata": {},
   "outputs": [],
   "source": [
    "df['GDP.per.capita.Current.USD'].fillna(value = to_fill,inplace = True)"
   ]
  },
  {
   "cell_type": "code",
   "execution_count": 21,
   "id": "b59b001f",
   "metadata": {},
   "outputs": [
    {
     "data": {
      "text/plain": [
       "year                          0\n",
       "country.name                  0\n",
       "life.expectancy               0\n",
       "fertility.rate                0\n",
       "population                    0\n",
       "GDP.per.capita.Current.USD    0\n",
       "region.value                  0\n",
       "incomeLevel.value             0\n",
       "dtype: int64"
      ]
     },
     "execution_count": 21,
     "metadata": {},
     "output_type": "execute_result"
    }
   ],
   "source": [
    "df.isnull().sum()"
   ]
  },
  {
   "cell_type": "code",
   "execution_count": 22,
   "id": "a24e259c",
   "metadata": {},
   "outputs": [],
   "source": [
    "df.dropna(inplace = True)"
   ]
  },
  {
   "cell_type": "markdown",
   "id": "f2ef18c8",
   "metadata": {},
   "source": [
    "#### 1.\tSummarise ‘incomeLevel’ column from the dataset and represent using proper chart.\n",
    "* a.\tUse counts\n",
    "* b.\tUse percentages\n"
   ]
  },
  {
   "cell_type": "code",
   "execution_count": 23,
   "id": "be56d2e4",
   "metadata": {},
   "outputs": [
    {
     "data": {
      "text/plain": [
       "region.value                incomeLevel.value  \n",
       "East Asia & Pacific         High income            15543.988618\n",
       "                            Low income               631.202418\n",
       "                            Lower middle income     1103.864781\n",
       "                            Upper middle income     2641.700185\n",
       "Europe & Central Asia       High income            22993.759203\n",
       "                            Lower middle income     1194.444027\n",
       "                            Upper middle income     3321.285297\n",
       "Latin America & Caribbean   High income             8758.949360\n",
       "                            Low income               518.182491\n",
       "                            Lower middle income     1095.498434\n",
       "                            Upper middle income     2763.486853\n",
       "Middle East & North Africa  High income            14954.942419\n",
       "                            Lower middle income     1237.546822\n",
       "                            Upper middle income     3095.044793\n",
       "North America               High income            25777.618224\n",
       "South Asia                  Low income               239.980961\n",
       "                            Lower middle income      599.430742\n",
       "                            Upper middle income     2862.072138\n",
       "Sub-Saharan Africa          High income             5136.517792\n",
       "                            Low income               308.763070\n",
       "                            Lower middle income      750.869958\n",
       "                            Upper middle income     3363.283536\n",
       "Name: GDP.per.capita.Current.USD, dtype: float64"
      ]
     },
     "execution_count": 23,
     "metadata": {},
     "output_type": "execute_result"
    }
   ],
   "source": [
    "df.groupby(['region.value','incomeLevel.value']).mean()['GDP.per.capita.Current.USD']"
   ]
  },
  {
   "cell_type": "code",
   "execution_count": 24,
   "id": "8377b449",
   "metadata": {},
   "outputs": [
    {
     "data": {
      "text/plain": [
       "High income            4104\n",
       "Upper middle income    2999\n",
       "Lower middle income    2565\n",
       "Low income             1653\n",
       "Name: incomeLevel.value, dtype: int64"
      ]
     },
     "execution_count": 24,
     "metadata": {},
     "output_type": "execute_result"
    }
   ],
   "source": [
    "#Data Preparation for chart\n",
    "pie = df['incomeLevel.value'].value_counts()\n",
    "pie"
   ]
  },
  {
   "cell_type": "code",
   "execution_count": 25,
   "id": "3ff7e596",
   "metadata": {},
   "outputs": [
    {
     "data": {
      "image/png": "[encoded data removed]",
      "text/plain": [
       "<Figure size 576x360 with 1 Axes>"
      ]
     },
     "metadata": {
      "needs_background": "light"
     },
     "output_type": "display_data"
    }
   ],
   "source": [
    "plt.figure(figsize=(8,5))\n",
    "plt.bar(height = pie.values,x=pie.index)\n",
    "plt.xlabel('Income Level')\n",
    "plt.ylabel('Frequency')\n",
    "plt.title('Bar plot for Income Level Counts')\n",
    "plt.tight_layout()"
   ]
  },
  {
   "cell_type": "markdown",
   "id": "9cd22749",
   "metadata": {},
   "source": [
    "A lot of people have High Income and few have low income"
   ]
  },
  {
   "cell_type": "code",
   "execution_count": 26,
   "id": "21caad7e",
   "metadata": {},
   "outputs": [
    {
     "data": {
      "image/png": "[encoded data removed]",
      "text/plain": [
       "<Figure size 360x360 with 1 Axes>"
      ]
     },
     "metadata": {},
     "output_type": "display_data"
    }
   ],
   "source": [
    "plt.figure(figsize=(5,5))\n",
    "plt.pie(pie.values,labels=pie.index,autopct='%1.2f%%')\n",
    "plt.title('Pie Chart for Income Level ')\n",
    "plt.show()"
   ]
  },
  {
   "cell_type": "markdown",
   "id": "bb83b740",
   "metadata": {},
   "source": [
    "* 36% people have High Income\n",
    "* 23% people have low middle income\n",
    "* 26% people have upper middle income\n",
    "* 15% people have low income"
   ]
  },
  {
   "cell_type": "markdown",
   "id": "2f15bc3a",
   "metadata": {},
   "source": [
    "### 2.\tSummarise ‘incomeLevel’ and ‘region’ columns together and represent the summary by proper chart.\n",
    "* a.\tUse counts\n",
    "* b.\tUse ‘region’ wise percentages\n"
   ]
  },
  {
   "cell_type": "code",
   "execution_count": 27,
   "id": "b6ec27cb",
   "metadata": {},
   "outputs": [
    {
     "data": {
      "text/html": [
       "<div>\n",
       "<style scoped>\n",
       "    .dataframe tbody tr th:only-of-type {\n",
       "        vertical-align: middle;\n",
       "    }\n",
       "\n",
       "    .dataframe tbody tr th {\n",
       "        vertical-align: top;\n",
       "    }\n",
       "\n",
       "    .dataframe thead th {\n",
       "        text-align: right;\n",
       "    }\n",
       "</style>\n",
       "<table border=\"1\" class=\"dataframe\">\n",
       "  <thead>\n",
       "    <tr style=\"text-align: right;\">\n",
       "      <th>incomeLevel.value</th>\n",
       "      <th>High income</th>\n",
       "      <th>Low income</th>\n",
       "      <th>Lower middle income</th>\n",
       "      <th>Upper middle income</th>\n",
       "    </tr>\n",
       "    <tr>\n",
       "      <th>region.value</th>\n",
       "      <th></th>\n",
       "      <th></th>\n",
       "      <th></th>\n",
       "      <th></th>\n",
       "    </tr>\n",
       "  </thead>\n",
       "  <tbody>\n",
       "    <tr>\n",
       "      <th>East Asia &amp; Pacific</th>\n",
       "      <td>741</td>\n",
       "      <td>57</td>\n",
       "      <td>741</td>\n",
       "      <td>399</td>\n",
       "    </tr>\n",
       "    <tr>\n",
       "      <th>Europe &amp; Central Asia</th>\n",
       "      <td>2052</td>\n",
       "      <td>0</td>\n",
       "      <td>285</td>\n",
       "      <td>719</td>\n",
       "    </tr>\n",
       "    <tr>\n",
       "      <th>Latin America &amp; Caribbean</th>\n",
       "      <td>741</td>\n",
       "      <td>57</td>\n",
       "      <td>285</td>\n",
       "      <td>1083</td>\n",
       "    </tr>\n",
       "    <tr>\n",
       "      <th>Middle East &amp; North Africa</th>\n",
       "      <td>399</td>\n",
       "      <td>0</td>\n",
       "      <td>285</td>\n",
       "      <td>342</td>\n",
       "    </tr>\n",
       "    <tr>\n",
       "      <th>North America</th>\n",
       "      <td>114</td>\n",
       "      <td>0</td>\n",
       "      <td>0</td>\n",
       "      <td>0</td>\n",
       "    </tr>\n",
       "  </tbody>\n",
       "</table>\n",
       "</div>"
      ],
      "text/plain": [
       "incomeLevel.value           High income  Low income  Lower middle income  \\\n",
       "region.value                                                               \n",
       "East Asia & Pacific                 741          57                  741   \n",
       "Europe & Central Asia              2052           0                  285   \n",
       "Latin America & Caribbean           741          57                  285   \n",
       "Middle East & North Africa          399           0                  285   \n",
       "North America                       114           0                    0   \n",
       "\n",
       "incomeLevel.value           Upper middle income  \n",
       "region.value                                     \n",
       "East Asia & Pacific                         399  \n",
       "Europe & Central Asia                       719  \n",
       "Latin America & Caribbean                  1083  \n",
       "Middle East & North Africa                  342  \n",
       "North America                                 0  "
      ]
     },
     "execution_count": 27,
     "metadata": {},
     "output_type": "execute_result"
    }
   ],
   "source": [
    "df1 = pd.crosstab(df['region.value'],df['incomeLevel.value'])\n",
    "df1.head()"
   ]
  },
  {
   "cell_type": "code",
   "execution_count": 28,
   "id": "84a2c835",
   "metadata": {},
   "outputs": [
    {
     "data": {
      "text/plain": [
       "<AxesSubplot:title={'center':'Multiple bar Diagram'}, xlabel='region.value', ylabel='Frequency'>"
      ]
     },
     "execution_count": 28,
     "metadata": {},
     "output_type": "execute_result"
    },
    {
     "data": {
      "image/png": "[encoded data removed]",
      "text/plain": [
       "<Figure size 720x360 with 1 Axes>"
      ]
     },
     "metadata": {
      "needs_background": "light"
     },
     "output_type": "display_data"
    }
   ],
   "source": [
    "df1.plot(kind = 'bar',figsize = (10,5),ylabel = 'Frequency',title = 'Multiple bar Diagram')"
   ]
  },
  {
   "cell_type": "code",
   "execution_count": null,
   "id": "573aa2e9",
   "metadata": {},
   "outputs": [],
   "source": []
  },
  {
   "cell_type": "code",
   "execution_count": 29,
   "id": "50d019bc",
   "metadata": {},
   "outputs": [
    {
     "data": {
      "text/plain": [
       "array([<AxesSubplot:ylabel='High income'>,\n",
       "       <AxesSubplot:ylabel='Low income'>,\n",
       "       <AxesSubplot:ylabel='Lower middle income'>,\n",
       "       <AxesSubplot:ylabel='Upper middle income'>], dtype=object)"
      ]
     },
     "execution_count": 29,
     "metadata": {},
     "output_type": "execute_result"
    },
    {
     "data": {
      "image/png": "[encoded data removed]",
      "text/plain": [
       "<Figure size 1440x720 with 4 Axes>"
      ]
     },
     "metadata": {},
     "output_type": "display_data"
    }
   ],
   "source": [
    "df1.plot(subplots = True,kind = 'pie',legend = False,figsize = (20,10),autopct='%1.2f%%')"
   ]
  },
  {
   "cell_type": "code",
   "execution_count": null,
   "id": "36987919",
   "metadata": {},
   "outputs": [],
   "source": []
  },
  {
   "cell_type": "markdown",
   "id": "fc899153",
   "metadata": {},
   "source": [
    "### 3.\tFind summary of data representing column-wise missing cases and represent the same by appropriate chart."
   ]
  },
  {
   "cell_type": "code",
   "execution_count": 30,
   "id": "1bca3484",
   "metadata": {},
   "outputs": [
    {
     "data": {
      "text/plain": [
       "year                             0\n",
       "country.name                     0\n",
       "life.expectancy               1468\n",
       "fertility.rate                1447\n",
       "population                     273\n",
       "GDP.per.capita.Current.USD    3088\n",
       "region.value                     0\n",
       "incomeLevel.value                0\n",
       "dtype: int64"
      ]
     },
     "execution_count": 30,
     "metadata": {},
     "output_type": "execute_result"
    }
   ],
   "source": [
    "#Showing null values in columns\n",
    "na = data.isna().sum()\n",
    "na"
   ]
  },
  {
   "cell_type": "code",
   "execution_count": 31,
   "id": "91184f6a",
   "metadata": {
    "scrolled": true
   },
   "outputs": [
    {
     "data": {
      "image/png": "[encoded data removed]",
      "text/plain": [
       "<Figure size 864x432 with 1 Axes>"
      ]
     },
     "metadata": {
      "needs_background": "light"
     },
     "output_type": "display_data"
    }
   ],
   "source": [
    "plt.figure(figsize=(12,6))\n",
    "plt.plot(na.index,na.values,'ro-',markerfacecolor = 'b',markeredgecolor = 'b')\n",
    "plt.xlabel('Column')\n",
    "plt.ylabel('Frequency')\n",
    "plt.title('Null value Count Frequency polygon')\n",
    "plt.tight_layout()"
   ]
  },
  {
   "cell_type": "markdown",
   "id": "705c6b63",
   "metadata": {},
   "source": [
    "The points having y-value greater than 0 are the number of null values in that column"
   ]
  },
  {
   "cell_type": "markdown",
   "id": "82b202ca",
   "metadata": {},
   "source": [
    "### 4.\tFind mean of ‘life.expectancy’ for Japan, India, China, Cuba and Denmark. Represent this data using Barplot."
   ]
  },
  {
   "cell_type": "code",
   "execution_count": 32,
   "id": "371077b9",
   "metadata": {},
   "outputs": [
    {
     "data": {
      "text/plain": [
       "['Japan', 'India', 'China', 'Cuba', 'Denmark']"
      ]
     },
     "execution_count": 32,
     "metadata": {},
     "output_type": "execute_result"
    }
   ],
   "source": [
    "Country = 'Japan India China Cuba Denmark'.split()\n",
    "Country"
   ]
  },
  {
   "cell_type": "code",
   "execution_count": 33,
   "id": "fdeb3092",
   "metadata": {},
   "outputs": [
    {
     "data": {
      "text/html": [
       "<div>\n",
       "<style scoped>\n",
       "    .dataframe tbody tr th:only-of-type {\n",
       "        vertical-align: middle;\n",
       "    }\n",
       "\n",
       "    .dataframe tbody tr th {\n",
       "        vertical-align: top;\n",
       "    }\n",
       "\n",
       "    .dataframe thead th {\n",
       "        text-align: right;\n",
       "    }\n",
       "</style>\n",
       "<table border=\"1\" class=\"dataframe\">\n",
       "  <thead>\n",
       "    <tr style=\"text-align: right;\">\n",
       "      <th></th>\n",
       "      <th>year</th>\n",
       "      <th>country.name</th>\n",
       "      <th>life.expectancy</th>\n",
       "      <th>fertility.rate</th>\n",
       "      <th>population</th>\n",
       "      <th>GDP.per.capita.Current.USD</th>\n",
       "      <th>region.value</th>\n",
       "      <th>incomeLevel.value</th>\n",
       "    </tr>\n",
       "  </thead>\n",
       "  <tbody>\n",
       "    <tr>\n",
       "      <th>5358</th>\n",
       "      <td>1982</td>\n",
       "      <td>Japan</td>\n",
       "      <td>76.922927</td>\n",
       "      <td>1.77</td>\n",
       "      <td>118449000.0</td>\n",
       "      <td>9428.874650</td>\n",
       "      <td>East Asia &amp; Pacific</td>\n",
       "      <td>High income</td>\n",
       "    </tr>\n",
       "    <tr>\n",
       "      <th>5359</th>\n",
       "      <td>2012</td>\n",
       "      <td>Japan</td>\n",
       "      <td>83.096098</td>\n",
       "      <td>1.41</td>\n",
       "      <td>127561489.0</td>\n",
       "      <td>46701.008000</td>\n",
       "      <td>East Asia &amp; Pacific</td>\n",
       "      <td>High income</td>\n",
       "    </tr>\n",
       "    <tr>\n",
       "      <th>5360</th>\n",
       "      <td>1966</td>\n",
       "      <td>Japan</td>\n",
       "      <td>70.986585</td>\n",
       "      <td>1.58</td>\n",
       "      <td>99790000.0</td>\n",
       "      <td>1058.503561</td>\n",
       "      <td>East Asia &amp; Pacific</td>\n",
       "      <td>High income</td>\n",
       "    </tr>\n",
       "    <tr>\n",
       "      <th>5361</th>\n",
       "      <td>1961</td>\n",
       "      <td>Japan</td>\n",
       "      <td>68.310000</td>\n",
       "      <td>2.05</td>\n",
       "      <td>94943000.0</td>\n",
       "      <td>563.586760</td>\n",
       "      <td>East Asia &amp; Pacific</td>\n",
       "      <td>High income</td>\n",
       "    </tr>\n",
       "    <tr>\n",
       "      <th>5362</th>\n",
       "      <td>1976</td>\n",
       "      <td>Japan</td>\n",
       "      <td>75.456829</td>\n",
       "      <td>1.85</td>\n",
       "      <td>112771000.0</td>\n",
       "      <td>5111.295149</td>\n",
       "      <td>East Asia &amp; Pacific</td>\n",
       "      <td>High income</td>\n",
       "    </tr>\n",
       "  </tbody>\n",
       "</table>\n",
       "</div>"
      ],
      "text/plain": [
       "      year country.name  life.expectancy  fertility.rate   population  \\\n",
       "5358  1982        Japan        76.922927            1.77  118449000.0   \n",
       "5359  2012        Japan        83.096098            1.41  127561489.0   \n",
       "5360  1966        Japan        70.986585            1.58   99790000.0   \n",
       "5361  1961        Japan        68.310000            2.05   94943000.0   \n",
       "5362  1976        Japan        75.456829            1.85  112771000.0   \n",
       "\n",
       "      GDP.per.capita.Current.USD         region.value incomeLevel.value  \n",
       "5358                 9428.874650  East Asia & Pacific       High income  \n",
       "5359                46701.008000  East Asia & Pacific       High income  \n",
       "5360                 1058.503561  East Asia & Pacific       High income  \n",
       "5361                  563.586760  East Asia & Pacific       High income  \n",
       "5362                 5111.295149  East Asia & Pacific       High income  "
      ]
     },
     "execution_count": 33,
     "metadata": {},
     "output_type": "execute_result"
    }
   ],
   "source": [
    "l=[]   #empty list\n",
    "for i in Country:\n",
    "    l.append(df[df['country.name']==i])    #append each country in list\n",
    "df1 = pd.concat(l[0:])    #concat each list element in dataframe\n",
    "df1.head()"
   ]
  },
  {
   "cell_type": "code",
   "execution_count": 34,
   "id": "ed5f09c5",
   "metadata": {},
   "outputs": [
    {
     "data": {
      "text/plain": [
       "country.name\n",
       "China      65.652496\n",
       "Cuba       73.559795\n",
       "Denmark    75.248088\n",
       "India      56.173533\n",
       "Japan      77.180452\n",
       "Name: life.expectancy, dtype: float64"
      ]
     },
     "execution_count": 34,
     "metadata": {},
     "output_type": "execute_result"
    }
   ],
   "source": [
    "df1_groupby = df1.groupby('country.name').mean()['life.expectancy']\n",
    "df1_groupby"
   ]
  },
  {
   "cell_type": "code",
   "execution_count": 35,
   "id": "ef22e5ac",
   "metadata": {},
   "outputs": [
    {
     "data": {
      "text/plain": [
       "Text(0, 0.5, 'Average life expectancy')"
      ]
     },
     "execution_count": 35,
     "metadata": {},
     "output_type": "execute_result"
    },
    {
     "data": {
      "image/png": "[encoded data removed]",
      "text/plain": [
       "<Figure size 720x432 with 1 Axes>"
      ]
     },
     "metadata": {
      "needs_background": "light"
     },
     "output_type": "display_data"
    }
   ],
   "source": [
    "plt.figure(figsize=(10,6))\n",
    "plt.bar(height = df1_groupby.values,x = df1_groupby.index)\n",
    "plt.title(\"Bar Plot for Country's average life expectancy\" )\n",
    "plt.xlabel('Country')\n",
    "plt.ylabel('Average life expectancy')"
   ]
  },
  {
   "cell_type": "markdown",
   "id": "083cd80c",
   "metadata": {},
   "source": [
    "Japan has highest life expectancy and India has lowest among these five countries"
   ]
  },
  {
   "cell_type": "markdown",
   "id": "d771174d",
   "metadata": {},
   "source": [
    "### 5.\tDraw histogram for \n",
    "* a.\tlife.expectancy"
   ]
  },
  {
   "cell_type": "code",
   "execution_count": 36,
   "id": "8c088474",
   "metadata": {},
   "outputs": [
    {
     "data": {
      "text/plain": [
       "<AxesSubplot:title={'center':'Histogram for Life Expenctancy'}, ylabel='Frequency'>"
      ]
     },
     "execution_count": 36,
     "metadata": {},
     "output_type": "execute_result"
    },
    {
     "data": {
      "image/png": "[encoded data removed]",
      "text/plain": [
       "<Figure size 648x360 with 1 Axes>"
      ]
     },
     "metadata": {
      "needs_background": "light"
     },
     "output_type": "display_data"
    }
   ],
   "source": [
    "df['life.expectancy'].plot(kind='hist', xlabel = 'Life expectancy', title = 'Histogram for Life Expenctancy' ,figsize = (9,5))"
   ]
  },
  {
   "cell_type": "markdown",
   "id": "a31397e2",
   "metadata": {},
   "source": [
    "The Life expectancy is negatively skewwed distribution"
   ]
  },
  {
   "cell_type": "markdown",
   "id": "980810b9",
   "metadata": {},
   "source": [
    "* b.\tlife.expectancy of incomeLevel= High income"
   ]
  },
  {
   "cell_type": "code",
   "execution_count": 37,
   "id": "bc11839f",
   "metadata": {},
   "outputs": [
    {
     "data": {
      "text/plain": [
       "0        74.291974\n",
       "1        74.291974\n",
       "2        74.291974\n",
       "3        74.291974\n",
       "4        74.291974\n",
       "           ...    \n",
       "11145    71.021122\n",
       "11146    71.021122\n",
       "11147    71.021122\n",
       "11148    71.021122\n",
       "11149    71.021122\n",
       "Name: life.expectancy, Length: 4104, dtype: float64"
      ]
     },
     "execution_count": 37,
     "metadata": {},
     "output_type": "execute_result"
    }
   ],
   "source": [
    "d1 = df[df['incomeLevel.value'] == 'High income']['life.expectancy']\n",
    "d1"
   ]
  },
  {
   "cell_type": "code",
   "execution_count": 38,
   "id": "430a7444",
   "metadata": {},
   "outputs": [
    {
     "data": {
      "text/plain": [
       "Text(0.5, 1.0, 'Histogram for Life Expenctancy of High income people')"
      ]
     },
     "execution_count": 38,
     "metadata": {},
     "output_type": "execute_result"
    },
    {
     "data": {
      "image/png": "[encoded data removed]",
      "text/plain": [
       "<Figure size 648x360 with 1 Axes>"
      ]
     },
     "metadata": {
      "needs_background": "light"
     },
     "output_type": "display_data"
    }
   ],
   "source": [
    "plt.figure(figsize = (9,5))\n",
    "plt.hist(d1) \n",
    "plt.xlabel('Life expectancy')\n",
    "plt.ylabel('Frequency')\n",
    "plt.title('Histogram for Life Expenctancy of High income people')"
   ]
  },
  {
   "cell_type": "markdown",
   "id": "bc2044a8",
   "metadata": {},
   "source": [
    "The Life expectancy of High income people is negatively skewwed distribution."
   ]
  },
  {
   "cell_type": "markdown",
   "id": "6918543d",
   "metadata": {},
   "source": [
    "* c.\tfertility.rate of incomeLevel = Low income"
   ]
  },
  {
   "cell_type": "code",
   "execution_count": 39,
   "id": "4e951375",
   "metadata": {},
   "outputs": [
    {
     "data": {
      "text/plain": [
       "57       7.450\n",
       "58       7.460\n",
       "59       7.137\n",
       "60       7.450\n",
       "61       7.450\n",
       "         ...  \n",
       "11031    6.379\n",
       "11032    6.685\n",
       "11033    6.465\n",
       "11034    6.791\n",
       "11035    6.504\n",
       "Name: fertility.rate, Length: 1653, dtype: float64"
      ]
     },
     "execution_count": 39,
     "metadata": {},
     "output_type": "execute_result"
    }
   ],
   "source": [
    "d2 = df[df['incomeLevel.value'] == 'Low income']['fertility.rate']\n",
    "d2"
   ]
  },
  {
   "cell_type": "code",
   "execution_count": 40,
   "id": "676992a6",
   "metadata": {},
   "outputs": [
    {
     "data": {
      "text/plain": [
       "Text(0.5, 1.0, 'Histogram for Fertility Rate of Low income people')"
      ]
     },
     "execution_count": 40,
     "metadata": {},
     "output_type": "execute_result"
    },
    {
     "data": {
      "image/png": "[encoded data removed]",
      "text/plain": [
       "<Figure size 648x360 with 1 Axes>"
      ]
     },
     "metadata": {
      "needs_background": "light"
     },
     "output_type": "display_data"
    }
   ],
   "source": [
    "plt.figure(figsize = (9,5))\n",
    "plt.hist(d2) \n",
    "plt.xlabel('Fertility Rate')\n",
    "plt.ylabel('Frequency')\n",
    "plt.title('Histogram for Fertility Rate of Low income people')"
   ]
  },
  {
   "cell_type": "markdown",
   "id": "555fbee5",
   "metadata": {},
   "source": [
    "The Fertility Rate of Low income people is negatively skewwed distribution."
   ]
  },
  {
   "cell_type": "markdown",
   "id": "a3215d08",
   "metadata": {},
   "source": [
    "* d.\tpopulation of region = Europe & Central Asia"
   ]
  },
  {
   "cell_type": "code",
   "execution_count": 41,
   "id": "7b94c9af",
   "metadata": {},
   "outputs": [
    {
     "data": {
      "text/plain": [
       "0          64147.0\n",
       "1          31781.0\n",
       "2          42704.0\n",
       "3          74783.0\n",
       "4          24279.0\n",
       "           ...    \n",
       "11259    1308000.0\n",
       "11260    1812771.0\n",
       "11261    1135000.0\n",
       "11262    2059000.0\n",
       "11263    1818117.0\n",
       "Name: population, Length: 3056, dtype: float64"
      ]
     },
     "execution_count": 41,
     "metadata": {},
     "output_type": "execute_result"
    }
   ],
   "source": [
    "d3 = df[df['region.value'] == 'Europe & Central Asia']['population']\n",
    "d3"
   ]
  },
  {
   "cell_type": "code",
   "execution_count": 42,
   "id": "9ac11489",
   "metadata": {},
   "outputs": [
    {
     "data": {
      "text/plain": [
       "(13414.0, 148689000.0)"
      ]
     },
     "execution_count": 42,
     "metadata": {},
     "output_type": "execute_result"
    }
   ],
   "source": [
    "d3.min(),d3.max()"
   ]
  },
  {
   "cell_type": "code",
   "execution_count": 46,
   "id": "f5783194",
   "metadata": {},
   "outputs": [
    {
     "data": {
      "text/plain": [
       "Text(0.5, 1.0, 'Histogram for population of Europe & Central Asia')"
      ]
     },
     "execution_count": 46,
     "metadata": {},
     "output_type": "execute_result"
    },
    {
     "data": {
      "image/png": "[encoded data removed]",
      "text/plain": [
       "<Figure size 648x360 with 1 Axes>"
      ]
     },
     "metadata": {
      "needs_background": "light"
     },
     "output_type": "display_data"
    }
   ],
   "source": [
    "plt.figure(figsize = (9,5))\n",
    "plt.hist(d3,bins=30) \n",
    "plt.xlabel('Population')\n",
    "plt.ylabel('Frequency')\n",
    "plt.title('Histogram for population of Europe & Central Asia')"
   ]
  },
  {
   "cell_type": "markdown",
   "id": "f463e72f",
   "metadata": {},
   "source": [
    "A lot of values lie in range (0.0,0.2) 1e8"
   ]
  },
  {
   "cell_type": "markdown",
   "id": "908d9655",
   "metadata": {},
   "source": [
    "### 6.\tDraw density plot for \n",
    "* a.\tGDP.per.capita.Current.USD\n"
   ]
  },
  {
   "cell_type": "code",
   "execution_count": 47,
   "id": "fa18b17c",
   "metadata": {},
   "outputs": [
    {
     "data": {
      "text/plain": [
       "<AxesSubplot:title={'center':'Density plot for GDP per capita Current USD'}, ylabel='Density'>"
      ]
     },
     "execution_count": 47,
     "metadata": {},
     "output_type": "execute_result"
    },
    {
     "data": {
      "image/png": "[encoded data removed]",
      "text/plain": [
       "<Figure size 720x360 with 1 Axes>"
      ]
     },
     "metadata": {
      "needs_background": "light"
     },
     "output_type": "display_data"
    }
   ],
   "source": [
    "df['GDP.per.capita.Current.USD'].plot(kind = 'kde',title = 'Density plot for GDP per capita Current USD' ,figsize = (10,5))"
   ]
  },
  {
   "cell_type": "markdown",
   "id": "01d9f2be",
   "metadata": {},
   "source": [
    "There is a lot of variation in GDP per capita"
   ]
  },
  {
   "cell_type": "markdown",
   "id": "39596813",
   "metadata": {},
   "source": [
    "* b.\tGDP.per.capita.Current.USD of country = Japan"
   ]
  },
  {
   "cell_type": "code",
   "execution_count": 48,
   "id": "2e0d2f2f",
   "metadata": {},
   "outputs": [
    {
     "data": {
      "text/plain": [
       "<AxesSubplot:title={'center':'Density plot for GDP per capita Current USD of Japan'}, ylabel='Density'>"
      ]
     },
     "execution_count": 48,
     "metadata": {},
     "output_type": "execute_result"
    },
    {
     "data": {
      "image/png": "[encoded data removed]",
      "text/plain": [
       "<Figure size 720x360 with 1 Axes>"
      ]
     },
     "metadata": {
      "needs_background": "light"
     },
     "output_type": "display_data"
    }
   ],
   "source": [
    "df[df['country.name'] == 'Japan']['GDP.per.capita.Current.USD'].plot(kind = 'kde',title = 'Density plot for GDP per capita Current USD of Japan' ,figsize = (10,5))"
   ]
  },
  {
   "cell_type": "code",
   "execution_count": null,
   "id": "8ffe08df",
   "metadata": {},
   "outputs": [],
   "source": []
  },
  {
   "cell_type": "markdown",
   "id": "122d11b3",
   "metadata": {},
   "source": [
    "* c.\tGDP.per.capita.Current.USD of region = South Asia"
   ]
  },
  {
   "cell_type": "code",
   "execution_count": 49,
   "id": "dbb0e2cb",
   "metadata": {},
   "outputs": [
    {
     "data": {
      "text/plain": [
       "<AxesSubplot:title={'center':'Density plot for GDP per capita Current USD of region South Asia'}, ylabel='Density'>"
      ]
     },
     "execution_count": 49,
     "metadata": {},
     "output_type": "execute_result"
    },
    {
     "data": {
      "image/png": "[encoded data removed]",
      "text/plain": [
       "<Figure size 720x360 with 1 Axes>"
      ]
     },
     "metadata": {
      "needs_background": "light"
     },
     "output_type": "display_data"
    }
   ],
   "source": [
    "df[df['region.value'] == 'South Asia']['GDP.per.capita.Current.USD'].plot(kind = 'kde',title = 'Density plot for GDP per capita Current USD of region South Asia' ,figsize = (10,5))"
   ]
  },
  {
   "cell_type": "code",
   "execution_count": null,
   "id": "083f161e",
   "metadata": {},
   "outputs": [],
   "source": []
  },
  {
   "cell_type": "markdown",
   "id": "5716fda0",
   "metadata": {},
   "source": [
    "* d.\tGDP.per.capita.Current.USD of incomeLevel= High income\n"
   ]
  },
  {
   "cell_type": "code",
   "execution_count": 50,
   "id": "575a8fcb",
   "metadata": {
    "scrolled": true
   },
   "outputs": [
    {
     "data": {
      "text/plain": [
       "<AxesSubplot:title={'center':'Density plot for GDP per capita Current USD of High level income people'}, ylabel='Density'>"
      ]
     },
     "execution_count": 50,
     "metadata": {},
     "output_type": "execute_result"
    },
    {
     "data": {
      "image/png": "[encoded data removed]",
      "text/plain": [
       "<Figure size 720x360 with 1 Axes>"
      ]
     },
     "metadata": {
      "needs_background": "light"
     },
     "output_type": "display_data"
    }
   ],
   "source": [
    "df[df['incomeLevel.value'] == 'High income']['GDP.per.capita.Current.USD'].plot(kind = 'kde',title = 'Density plot for GDP per capita Current USD of High level income people' ,figsize = (10,5))"
   ]
  },
  {
   "cell_type": "code",
   "execution_count": null,
   "id": "fab8da33",
   "metadata": {},
   "outputs": [],
   "source": []
  },
  {
   "cell_type": "markdown",
   "id": "357d260b",
   "metadata": {},
   "source": [
    "### 7.\tDraw boxplot for \n",
    "a.\tlife.expectancy of region= Sub-Saharan Africa"
   ]
  },
  {
   "cell_type": "code",
   "execution_count": 51,
   "id": "93613568",
   "metadata": {},
   "outputs": [
    {
     "data": {
      "text/plain": [
       "Europe & Central Asia         3056\n",
       "Sub-Saharan Africa            2565\n",
       "Latin America & Caribbean     2166\n",
       "East Asia & Pacific           1938\n",
       "Middle East & North Africa    1026\n",
       "South Asia                     456\n",
       "North America                  114\n",
       "Name: region.value, dtype: int64"
      ]
     },
     "execution_count": 51,
     "metadata": {},
     "output_type": "execute_result"
    }
   ],
   "source": [
    "df['region.value'].value_counts()"
   ]
  },
  {
   "cell_type": "code",
   "execution_count": 52,
   "id": "e8b97ceb",
   "metadata": {},
   "outputs": [
    {
     "data": {
      "text/plain": [
       "<AxesSubplot:title={'center':'Box plot for life expectancy of Sub-Saharan Africa'}>"
      ]
     },
     "execution_count": 52,
     "metadata": {},
     "output_type": "execute_result"
    },
    {
     "data": {
      "image/png": "[encoded data removed]",
      "text/plain": [
       "<Figure size 720x360 with 1 Axes>"
      ]
     },
     "metadata": {
      "needs_background": "light"
     },
     "output_type": "display_data"
    }
   ],
   "source": [
    "l1 = df[df['region.value'] == 'Sub-Saharan Africa ']['life.expectancy']\n",
    "l1.plot(kind = 'box',title = 'Box plot for life expectancy of Sub-Saharan Africa',figsize = (10,5))"
   ]
  },
  {
   "cell_type": "markdown",
   "id": "1093d4c5",
   "metadata": {},
   "source": [
    "The distribution for life expectancy of Sub-Saharan Africa is symmetric."
   ]
  },
  {
   "cell_type": "markdown",
   "id": "6ba1e36e",
   "metadata": {},
   "source": [
    "b.\tfertility.rate of incomeLevel = Low income and High income"
   ]
  },
  {
   "cell_type": "code",
   "execution_count": 53,
   "id": "0dfc58ff",
   "metadata": {},
   "outputs": [],
   "source": [
    "l = df[df['incomeLevel.value'] == ('Low income')]\n",
    "h = df[df['incomeLevel.value'] == ('High income')]"
   ]
  },
  {
   "cell_type": "code",
   "execution_count": 54,
   "id": "2ad09837",
   "metadata": {},
   "outputs": [
    {
     "data": {
      "text/html": [
       "<div>\n",
       "<style scoped>\n",
       "    .dataframe tbody tr th:only-of-type {\n",
       "        vertical-align: middle;\n",
       "    }\n",
       "\n",
       "    .dataframe tbody tr th {\n",
       "        vertical-align: top;\n",
       "    }\n",
       "\n",
       "    .dataframe thead th {\n",
       "        text-align: right;\n",
       "    }\n",
       "</style>\n",
       "<table border=\"1\" class=\"dataframe\">\n",
       "  <thead>\n",
       "    <tr style=\"text-align: right;\">\n",
       "      <th></th>\n",
       "      <th>year</th>\n",
       "      <th>country.name</th>\n",
       "      <th>life.expectancy</th>\n",
       "      <th>fertility.rate</th>\n",
       "      <th>population</th>\n",
       "      <th>GDP.per.capita.Current.USD</th>\n",
       "      <th>region.value</th>\n",
       "      <th>incomeLevel.value</th>\n",
       "    </tr>\n",
       "  </thead>\n",
       "  <tbody>\n",
       "    <tr>\n",
       "      <th>57</th>\n",
       "      <td>1960</td>\n",
       "      <td>Afghanistan</td>\n",
       "      <td>32.328512</td>\n",
       "      <td>7.450</td>\n",
       "      <td>8994793.0</td>\n",
       "      <td>59.787681</td>\n",
       "      <td>South Asia</td>\n",
       "      <td>Low income</td>\n",
       "    </tr>\n",
       "    <tr>\n",
       "      <th>58</th>\n",
       "      <td>1986</td>\n",
       "      <td>Afghanistan</td>\n",
       "      <td>46.426951</td>\n",
       "      <td>7.460</td>\n",
       "      <td>11438949.0</td>\n",
       "      <td>239.980961</td>\n",
       "      <td>South Asia</td>\n",
       "      <td>Low income</td>\n",
       "    </tr>\n",
       "    <tr>\n",
       "      <th>59</th>\n",
       "      <td>2003</td>\n",
       "      <td>Afghanistan</td>\n",
       "      <td>56.235293</td>\n",
       "      <td>7.137</td>\n",
       "      <td>22507368.0</td>\n",
       "      <td>203.651041</td>\n",
       "      <td>South Asia</td>\n",
       "      <td>Low income</td>\n",
       "    </tr>\n",
       "    <tr>\n",
       "      <th>60</th>\n",
       "      <td>1974</td>\n",
       "      <td>Afghanistan</td>\n",
       "      <td>38.560902</td>\n",
       "      <td>7.450</td>\n",
       "      <td>12315553.0</td>\n",
       "      <td>175.027098</td>\n",
       "      <td>South Asia</td>\n",
       "      <td>Low income</td>\n",
       "    </tr>\n",
       "    <tr>\n",
       "      <th>61</th>\n",
       "      <td>1961</td>\n",
       "      <td>Afghanistan</td>\n",
       "      <td>32.777439</td>\n",
       "      <td>7.450</td>\n",
       "      <td>9164945.0</td>\n",
       "      <td>59.890037</td>\n",
       "      <td>South Asia</td>\n",
       "      <td>Low income</td>\n",
       "    </tr>\n",
       "  </tbody>\n",
       "</table>\n",
       "</div>"
      ],
      "text/plain": [
       "    year country.name  life.expectancy  fertility.rate  population  \\\n",
       "57  1960  Afghanistan        32.328512           7.450   8994793.0   \n",
       "58  1986  Afghanistan        46.426951           7.460  11438949.0   \n",
       "59  2003  Afghanistan        56.235293           7.137  22507368.0   \n",
       "60  1974  Afghanistan        38.560902           7.450  12315553.0   \n",
       "61  1961  Afghanistan        32.777439           7.450   9164945.0   \n",
       "\n",
       "    GDP.per.capita.Current.USD region.value incomeLevel.value  \n",
       "57                   59.787681   South Asia        Low income  \n",
       "58                  239.980961   South Asia        Low income  \n",
       "59                  203.651041   South Asia        Low income  \n",
       "60                  175.027098   South Asia        Low income  \n",
       "61                   59.890037   South Asia        Low income  "
      ]
     },
     "execution_count": 54,
     "metadata": {},
     "output_type": "execute_result"
    }
   ],
   "source": [
    "l2 = pd.concat([l,h])\n",
    "l2.head()"
   ]
  },
  {
   "cell_type": "code",
   "execution_count": 55,
   "id": "b2ac0234",
   "metadata": {},
   "outputs": [
    {
     "data": {
      "text/plain": [
       "<AxesSubplot:xlabel='incomeLevel.value', ylabel='fertility.rate'>"
      ]
     },
     "execution_count": 55,
     "metadata": {},
     "output_type": "execute_result"
    },
    {
     "data": {
      "image/png": "[encoded data removed]",
      "text/plain": [
       "<Figure size 432x288 with 1 Axes>"
      ]
     },
     "metadata": {
      "needs_background": "light"
     },
     "output_type": "display_data"
    }
   ],
   "source": [
    "sns.boxplot(y = l2['fertility.rate'],x = l2['incomeLevel.value'])"
   ]
  },
  {
   "cell_type": "markdown",
   "id": "07aa47e5",
   "metadata": {},
   "source": [
    "The fertility rate of high income level is positively skewwed.There are so many extreme values above.\n",
    "The fertility rate of low income level is negatively skewwed. There are so many extreme values below."
   ]
  },
  {
   "cell_type": "markdown",
   "id": "1b924900",
   "metadata": {},
   "source": [
    "c.\tGDP.per.capita.Current.USD of income = Upper middle income"
   ]
  },
  {
   "cell_type": "code",
   "execution_count": 56,
   "id": "63b6fe1e",
   "metadata": {},
   "outputs": [
    {
     "data": {
      "text/plain": [
       "171      1098.425463\n",
       "172      4094.358832\n",
       "173      3321.285297\n",
       "174      3321.285297\n",
       "175      3005.012903\n",
       "            ...     \n",
       "11316    1476.973213\n",
       "11317    3728.333992\n",
       "11318    3183.149769\n",
       "11319    5668.386771\n",
       "11320    2705.780204\n",
       "Name: GDP.per.capita.Current.USD, Length: 2999, dtype: float64"
      ]
     },
     "execution_count": 56,
     "metadata": {},
     "output_type": "execute_result"
    }
   ],
   "source": [
    "l3 = df[df['incomeLevel.value'] == ('Upper middle income')]\n",
    "l3['GDP.per.capita.Current.USD']#.plot(kind = 'box',xlabel = 'Upper middle income',title = 'Box plot for GDP per capita of Upper middle income people',figsize = (8,5))"
   ]
  },
  {
   "cell_type": "code",
   "execution_count": 57,
   "id": "5ad4532e",
   "metadata": {},
   "outputs": [
    {
     "data": {
      "text/plain": [
       "<AxesSubplot:xlabel='incomeLevel.value', ylabel='GDP.per.capita.Current.USD'>"
      ]
     },
     "execution_count": 57,
     "metadata": {},
     "output_type": "execute_result"
    },
    {
     "data": {
      "image/png": "[encoded data removed]",
      "text/plain": [
       "<Figure size 432x288 with 1 Axes>"
      ]
     },
     "metadata": {
      "needs_background": "light"
     },
     "output_type": "display_data"
    }
   ],
   "source": [
    "sns.boxplot(x = l3['incomeLevel.value'],y = l3['GDP.per.capita.Current.USD'],palette='Set3') "
   ]
  },
  {
   "cell_type": "markdown",
   "id": "03249a21",
   "metadata": {},
   "source": [
    "The upper middle income level is negatively skewwed.There are so many outliers in upper values."
   ]
  },
  {
   "cell_type": "markdown",
   "id": "7b8fc506",
   "metadata": {},
   "source": [
    "d.\tpopulation of region = East Asia & Pacific"
   ]
  },
  {
   "cell_type": "code",
   "execution_count": 58,
   "id": "ce533923",
   "metadata": {},
   "outputs": [
    {
     "data": {
      "text/html": [
       "<div>\n",
       "<style scoped>\n",
       "    .dataframe tbody tr th:only-of-type {\n",
       "        vertical-align: middle;\n",
       "    }\n",
       "\n",
       "    .dataframe tbody tr th {\n",
       "        vertical-align: top;\n",
       "    }\n",
       "\n",
       "    .dataframe thead th {\n",
       "        text-align: right;\n",
       "    }\n",
       "</style>\n",
       "<table border=\"1\" class=\"dataframe\">\n",
       "  <thead>\n",
       "    <tr style=\"text-align: right;\">\n",
       "      <th></th>\n",
       "      <th>year</th>\n",
       "      <th>country.name</th>\n",
       "      <th>life.expectancy</th>\n",
       "      <th>fertility.rate</th>\n",
       "      <th>population</th>\n",
       "      <th>GDP.per.capita.Current.USD</th>\n",
       "      <th>region.value</th>\n",
       "      <th>incomeLevel.value</th>\n",
       "    </tr>\n",
       "  </thead>\n",
       "  <tbody>\n",
       "    <tr>\n",
       "      <th>399</th>\n",
       "      <td>2016</td>\n",
       "      <td>American Samoa</td>\n",
       "      <td>66.422056</td>\n",
       "      <td>3.466699</td>\n",
       "      <td>1.624081e+08</td>\n",
       "      <td>2641.700185</td>\n",
       "      <td>East Asia &amp; Pacific</td>\n",
       "      <td>Upper middle income</td>\n",
       "    </tr>\n",
       "    <tr>\n",
       "      <th>400</th>\n",
       "      <td>1971</td>\n",
       "      <td>American Samoa</td>\n",
       "      <td>66.422056</td>\n",
       "      <td>3.466699</td>\n",
       "      <td>2.791600e+04</td>\n",
       "      <td>2641.700185</td>\n",
       "      <td>East Asia &amp; Pacific</td>\n",
       "      <td>Upper middle income</td>\n",
       "    </tr>\n",
       "    <tr>\n",
       "      <th>401</th>\n",
       "      <td>1998</td>\n",
       "      <td>American Samoa</td>\n",
       "      <td>66.422056</td>\n",
       "      <td>3.466699</td>\n",
       "      <td>5.589900e+04</td>\n",
       "      <td>2641.700185</td>\n",
       "      <td>East Asia &amp; Pacific</td>\n",
       "      <td>Upper middle income</td>\n",
       "    </tr>\n",
       "    <tr>\n",
       "      <th>402</th>\n",
       "      <td>1974</td>\n",
       "      <td>American Samoa</td>\n",
       "      <td>66.422056</td>\n",
       "      <td>3.466699</td>\n",
       "      <td>2.949100e+04</td>\n",
       "      <td>2641.700185</td>\n",
       "      <td>East Asia &amp; Pacific</td>\n",
       "      <td>Upper middle income</td>\n",
       "    </tr>\n",
       "    <tr>\n",
       "      <th>403</th>\n",
       "      <td>1984</td>\n",
       "      <td>American Samoa</td>\n",
       "      <td>66.422056</td>\n",
       "      <td>3.466699</td>\n",
       "      <td>3.768700e+04</td>\n",
       "      <td>2641.700185</td>\n",
       "      <td>East Asia &amp; Pacific</td>\n",
       "      <td>Upper middle income</td>\n",
       "    </tr>\n",
       "  </tbody>\n",
       "</table>\n",
       "</div>"
      ],
      "text/plain": [
       "     year    country.name  life.expectancy  fertility.rate    population  \\\n",
       "399  2016  American Samoa        66.422056        3.466699  1.624081e+08   \n",
       "400  1971  American Samoa        66.422056        3.466699  2.791600e+04   \n",
       "401  1998  American Samoa        66.422056        3.466699  5.589900e+04   \n",
       "402  1974  American Samoa        66.422056        3.466699  2.949100e+04   \n",
       "403  1984  American Samoa        66.422056        3.466699  3.768700e+04   \n",
       "\n",
       "     GDP.per.capita.Current.USD         region.value    incomeLevel.value  \n",
       "399                 2641.700185  East Asia & Pacific  Upper middle income  \n",
       "400                 2641.700185  East Asia & Pacific  Upper middle income  \n",
       "401                 2641.700185  East Asia & Pacific  Upper middle income  \n",
       "402                 2641.700185  East Asia & Pacific  Upper middle income  \n",
       "403                 2641.700185  East Asia & Pacific  Upper middle income  "
      ]
     },
     "execution_count": 58,
     "metadata": {},
     "output_type": "execute_result"
    }
   ],
   "source": [
    "l4 = df[df['region.value'] == 'East Asia & Pacific']\n",
    "l4.head()"
   ]
  },
  {
   "cell_type": "code",
   "execution_count": 59,
   "id": "1b7bf28f",
   "metadata": {},
   "outputs": [
    {
     "data": {
      "text/plain": [
       "<AxesSubplot:xlabel='region.value', ylabel='population'>"
      ]
     },
     "execution_count": 59,
     "metadata": {},
     "output_type": "execute_result"
    },
    {
     "data": {
      "image/png": "[encoded data removed]",
      "text/plain": [
       "<Figure size 432x288 with 1 Axes>"
      ]
     },
     "metadata": {
      "needs_background": "light"
     },
     "output_type": "display_data"
    }
   ],
   "source": [
    "sns.boxplot(x = l4['region.value'],y = l4['population'])"
   ]
  },
  {
   "cell_type": "markdown",
   "id": "c2e16d08",
   "metadata": {},
   "source": [
    "There are so many outliers having upper values"
   ]
  },
  {
   "cell_type": "markdown",
   "id": "bc4ded50",
   "metadata": {},
   "source": [
    "### 8.\tDraw scatterplot for\n",
    "a.\tlife.expectancy and GDP.per.capita.Current.USD"
   ]
  },
  {
   "cell_type": "code",
   "execution_count": 60,
   "id": "401e2de6",
   "metadata": {},
   "outputs": [
    {
     "data": {
      "text/plain": [
       "<AxesSubplot:xlabel='life.expectancy', ylabel='GDP.per.capita.Current.USD'>"
      ]
     },
     "execution_count": 60,
     "metadata": {},
     "output_type": "execute_result"
    },
    {
     "data": {
      "image/png": "[encoded data removed]",
      "text/plain": [
       "<Figure size 432x288 with 1 Axes>"
      ]
     },
     "metadata": {
      "needs_background": "light"
     },
     "output_type": "display_data"
    }
   ],
   "source": [
    "sns.scatterplot(x = df['life.expectancy'],y = df['GDP.per.capita.Current.USD'])"
   ]
  },
  {
   "cell_type": "code",
   "execution_count": null,
   "id": "7b0c386f",
   "metadata": {},
   "outputs": [],
   "source": []
  },
  {
   "cell_type": "markdown",
   "id": "52bdeac1",
   "metadata": {},
   "source": [
    "b.\tlife.expectancy and GDP.per.capita.Current.USD of region = Latin America & Caribbean"
   ]
  },
  {
   "cell_type": "code",
   "execution_count": 61,
   "id": "f22e13ae",
   "metadata": {},
   "outputs": [
    {
     "data": {
      "text/html": [
       "<div>\n",
       "<style scoped>\n",
       "    .dataframe tbody tr th:only-of-type {\n",
       "        vertical-align: middle;\n",
       "    }\n",
       "\n",
       "    .dataframe tbody tr th {\n",
       "        vertical-align: top;\n",
       "    }\n",
       "\n",
       "    .dataframe thead th {\n",
       "        text-align: right;\n",
       "    }\n",
       "</style>\n",
       "<table border=\"1\" class=\"dataframe\">\n",
       "  <thead>\n",
       "    <tr style=\"text-align: right;\">\n",
       "      <th></th>\n",
       "      <th>year</th>\n",
       "      <th>country.name</th>\n",
       "      <th>life.expectancy</th>\n",
       "      <th>fertility.rate</th>\n",
       "      <th>population</th>\n",
       "      <th>GDP.per.capita.Current.USD</th>\n",
       "      <th>region.value</th>\n",
       "      <th>incomeLevel.value</th>\n",
       "    </tr>\n",
       "  </thead>\n",
       "  <tbody>\n",
       "    <tr>\n",
       "      <th>114</th>\n",
       "      <td>1971</td>\n",
       "      <td>Antigua and Barbuda</td>\n",
       "      <td>65.862024</td>\n",
       "      <td>3.517</td>\n",
       "      <td>66338.0</td>\n",
       "      <td>8758.949360</td>\n",
       "      <td>Latin America &amp; Caribbean</td>\n",
       "      <td>High income</td>\n",
       "    </tr>\n",
       "    <tr>\n",
       "      <th>115</th>\n",
       "      <td>1984</td>\n",
       "      <td>Antigua and Barbuda</td>\n",
       "      <td>69.670463</td>\n",
       "      <td>2.098</td>\n",
       "      <td>66863.0</td>\n",
       "      <td>2595.024274</td>\n",
       "      <td>Latin America &amp; Caribbean</td>\n",
       "      <td>High income</td>\n",
       "    </tr>\n",
       "    <tr>\n",
       "      <th>116</th>\n",
       "      <td>1992</td>\n",
       "      <td>Antigua and Barbuda</td>\n",
       "      <td>71.634707</td>\n",
       "      <td>2.096</td>\n",
       "      <td>63434.0</td>\n",
       "      <td>6680.375870</td>\n",
       "      <td>Latin America &amp; Caribbean</td>\n",
       "      <td>High income</td>\n",
       "    </tr>\n",
       "    <tr>\n",
       "      <th>117</th>\n",
       "      <td>1970</td>\n",
       "      <td>Antigua and Barbuda</td>\n",
       "      <td>65.529341</td>\n",
       "      <td>3.684</td>\n",
       "      <td>65369.0</td>\n",
       "      <td>8758.949360</td>\n",
       "      <td>Latin America &amp; Caribbean</td>\n",
       "      <td>High income</td>\n",
       "    </tr>\n",
       "    <tr>\n",
       "      <th>118</th>\n",
       "      <td>1989</td>\n",
       "      <td>Antigua and Barbuda</td>\n",
       "      <td>70.922829</td>\n",
       "      <td>2.058</td>\n",
       "      <td>61967.0</td>\n",
       "      <td>6025.847582</td>\n",
       "      <td>Latin America &amp; Caribbean</td>\n",
       "      <td>High income</td>\n",
       "    </tr>\n",
       "  </tbody>\n",
       "</table>\n",
       "</div>"
      ],
      "text/plain": [
       "     year         country.name  life.expectancy  fertility.rate  population  \\\n",
       "114  1971  Antigua and Barbuda        65.862024           3.517     66338.0   \n",
       "115  1984  Antigua and Barbuda        69.670463           2.098     66863.0   \n",
       "116  1992  Antigua and Barbuda        71.634707           2.096     63434.0   \n",
       "117  1970  Antigua and Barbuda        65.529341           3.684     65369.0   \n",
       "118  1989  Antigua and Barbuda        70.922829           2.058     61967.0   \n",
       "\n",
       "     GDP.per.capita.Current.USD                region.value incomeLevel.value  \n",
       "114                 8758.949360  Latin America & Caribbean        High income  \n",
       "115                 2595.024274  Latin America & Caribbean        High income  \n",
       "116                 6680.375870  Latin America & Caribbean        High income  \n",
       "117                 8758.949360  Latin America & Caribbean        High income  \n",
       "118                 6025.847582  Latin America & Caribbean        High income  "
      ]
     },
     "execution_count": 61,
     "metadata": {},
     "output_type": "execute_result"
    }
   ],
   "source": [
    "s1 = df[df['region.value'] == 'Latin America & Caribbean ']\n",
    "s1.head()"
   ]
  },
  {
   "cell_type": "code",
   "execution_count": 62,
   "id": "b437fd53",
   "metadata": {},
   "outputs": [
    {
     "data": {
      "text/plain": [
       "<AxesSubplot:xlabel='life.expectancy', ylabel='GDP.per.capita.Current.USD'>"
      ]
     },
     "execution_count": 62,
     "metadata": {},
     "output_type": "execute_result"
    },
    {
     "data": {
      "image/png": "[encoded data removed]",
      "text/plain": [
       "<Figure size 432x288 with 1 Axes>"
      ]
     },
     "metadata": {
      "needs_background": "light"
     },
     "output_type": "display_data"
    }
   ],
   "source": [
    "sns.scatterplot(x = s1['life.expectancy'],y = s1['GDP.per.capita.Current.USD'])"
   ]
  },
  {
   "cell_type": "markdown",
   "id": "e19c799b",
   "metadata": {},
   "source": [
    "There seems to be no correlation between GDP and life expectancy."
   ]
  },
  {
   "cell_type": "markdown",
   "id": "b6683c01",
   "metadata": {},
   "source": [
    "c.\tlife.expectancy and GDP.per.capita.Current.USD of income = Upper middle income"
   ]
  },
  {
   "cell_type": "code",
   "execution_count": 63,
   "id": "ffad9e46",
   "metadata": {},
   "outputs": [
    {
     "data": {
      "text/html": [
       "<div>\n",
       "<style scoped>\n",
       "    .dataframe tbody tr th:only-of-type {\n",
       "        vertical-align: middle;\n",
       "    }\n",
       "\n",
       "    .dataframe tbody tr th {\n",
       "        vertical-align: top;\n",
       "    }\n",
       "\n",
       "    .dataframe thead th {\n",
       "        text-align: right;\n",
       "    }\n",
       "</style>\n",
       "<table border=\"1\" class=\"dataframe\">\n",
       "  <thead>\n",
       "    <tr style=\"text-align: right;\">\n",
       "      <th></th>\n",
       "      <th>year</th>\n",
       "      <th>country.name</th>\n",
       "      <th>life.expectancy</th>\n",
       "      <th>fertility.rate</th>\n",
       "      <th>population</th>\n",
       "      <th>GDP.per.capita.Current.USD</th>\n",
       "      <th>region.value</th>\n",
       "      <th>incomeLevel.value</th>\n",
       "    </tr>\n",
       "  </thead>\n",
       "  <tbody>\n",
       "    <tr>\n",
       "      <th>171</th>\n",
       "      <td>1999</td>\n",
       "      <td>Albania</td>\n",
       "      <td>73.793390</td>\n",
       "      <td>2.249</td>\n",
       "      <td>3108778.0</td>\n",
       "      <td>1098.425463</td>\n",
       "      <td>Europe &amp; Central Asia</td>\n",
       "      <td>Upper middle income</td>\n",
       "    </tr>\n",
       "    <tr>\n",
       "      <th>172</th>\n",
       "      <td>2010</td>\n",
       "      <td>Albania</td>\n",
       "      <td>77.036951</td>\n",
       "      <td>1.663</td>\n",
       "      <td>2913021.0</td>\n",
       "      <td>4094.358832</td>\n",
       "      <td>Europe &amp; Central Asia</td>\n",
       "      <td>Upper middle income</td>\n",
       "    </tr>\n",
       "    <tr>\n",
       "      <th>173</th>\n",
       "      <td>1977</td>\n",
       "      <td>Albania</td>\n",
       "      <td>69.456171</td>\n",
       "      <td>3.966</td>\n",
       "      <td>2513546.0</td>\n",
       "      <td>3321.285297</td>\n",
       "      <td>Europe &amp; Central Asia</td>\n",
       "      <td>Upper middle income</td>\n",
       "    </tr>\n",
       "    <tr>\n",
       "      <th>174</th>\n",
       "      <td>1976</td>\n",
       "      <td>Albania</td>\n",
       "      <td>69.115512</td>\n",
       "      <td>4.099</td>\n",
       "      <td>2458526.0</td>\n",
       "      <td>3321.285297</td>\n",
       "      <td>Europe &amp; Central Asia</td>\n",
       "      <td>Upper middle income</td>\n",
       "    </tr>\n",
       "    <tr>\n",
       "      <th>175</th>\n",
       "      <td>2006</td>\n",
       "      <td>Albania</td>\n",
       "      <td>76.286122</td>\n",
       "      <td>1.668</td>\n",
       "      <td>2992547.0</td>\n",
       "      <td>3005.012903</td>\n",
       "      <td>Europe &amp; Central Asia</td>\n",
       "      <td>Upper middle income</td>\n",
       "    </tr>\n",
       "  </tbody>\n",
       "</table>\n",
       "</div>"
      ],
      "text/plain": [
       "     year country.name  life.expectancy  fertility.rate  population  \\\n",
       "171  1999      Albania        73.793390           2.249   3108778.0   \n",
       "172  2010      Albania        77.036951           1.663   2913021.0   \n",
       "173  1977      Albania        69.456171           3.966   2513546.0   \n",
       "174  1976      Albania        69.115512           4.099   2458526.0   \n",
       "175  2006      Albania        76.286122           1.668   2992547.0   \n",
       "\n",
       "     GDP.per.capita.Current.USD           region.value    incomeLevel.value  \n",
       "171                 1098.425463  Europe & Central Asia  Upper middle income  \n",
       "172                 4094.358832  Europe & Central Asia  Upper middle income  \n",
       "173                 3321.285297  Europe & Central Asia  Upper middle income  \n",
       "174                 3321.285297  Europe & Central Asia  Upper middle income  \n",
       "175                 3005.012903  Europe & Central Asia  Upper middle income  "
      ]
     },
     "execution_count": 63,
     "metadata": {},
     "output_type": "execute_result"
    }
   ],
   "source": [
    "s2 = df[df['incomeLevel.value'] == 'Upper middle income']\n",
    "s2.head()"
   ]
  },
  {
   "cell_type": "code",
   "execution_count": 64,
   "id": "ef60b347",
   "metadata": {},
   "outputs": [
    {
     "data": {
      "text/plain": [
       "<AxesSubplot:xlabel='life.expectancy', ylabel='GDP.per.capita.Current.USD'>"
      ]
     },
     "execution_count": 64,
     "metadata": {},
     "output_type": "execute_result"
    },
    {
     "data": {
      "image/png": "[encoded data removed]",
      "text/plain": [
       "<Figure size 432x288 with 1 Axes>"
      ]
     },
     "metadata": {
      "needs_background": "light"
     },
     "output_type": "display_data"
    }
   ],
   "source": [
    "sns.scatterplot(x = s2['life.expectancy'], y = s2['GDP.per.capita.Current.USD'])"
   ]
  },
  {
   "cell_type": "markdown",
   "id": "8722ccb7",
   "metadata": {},
   "source": [
    "There seems to be no correlation between GDP and life expectancy."
   ]
  },
  {
   "cell_type": "markdown",
   "id": "f0cc2059",
   "metadata": {},
   "source": [
    "d.\tfertility.rate and life.expectancy of country = India"
   ]
  },
  {
   "cell_type": "code",
   "execution_count": 65,
   "id": "273792f6",
   "metadata": {},
   "outputs": [
    {
     "data": {
      "text/html": [
       "<div>\n",
       "<style scoped>\n",
       "    .dataframe tbody tr th:only-of-type {\n",
       "        vertical-align: middle;\n",
       "    }\n",
       "\n",
       "    .dataframe tbody tr th {\n",
       "        vertical-align: top;\n",
       "    }\n",
       "\n",
       "    .dataframe thead th {\n",
       "        text-align: right;\n",
       "    }\n",
       "</style>\n",
       "<table border=\"1\" class=\"dataframe\">\n",
       "  <thead>\n",
       "    <tr style=\"text-align: right;\">\n",
       "      <th></th>\n",
       "      <th>year</th>\n",
       "      <th>country.name</th>\n",
       "      <th>life.expectancy</th>\n",
       "      <th>fertility.rate</th>\n",
       "      <th>population</th>\n",
       "      <th>GDP.per.capita.Current.USD</th>\n",
       "      <th>region.value</th>\n",
       "      <th>incomeLevel.value</th>\n",
       "    </tr>\n",
       "  </thead>\n",
       "  <tbody>\n",
       "    <tr>\n",
       "      <th>4902</th>\n",
       "      <td>2015</td>\n",
       "      <td>India</td>\n",
       "      <td>58.216190</td>\n",
       "      <td>4.629113</td>\n",
       "      <td>1.311051e+09</td>\n",
       "      <td>1581.588913</td>\n",
       "      <td>South Asia</td>\n",
       "      <td>Lower middle income</td>\n",
       "    </tr>\n",
       "    <tr>\n",
       "      <th>4903</th>\n",
       "      <td>2009</td>\n",
       "      <td>India</td>\n",
       "      <td>66.102634</td>\n",
       "      <td>2.687000</td>\n",
       "      <td>1.214182e+09</td>\n",
       "      <td>1124.519446</td>\n",
       "      <td>South Asia</td>\n",
       "      <td>Lower middle income</td>\n",
       "    </tr>\n",
       "    <tr>\n",
       "      <th>4904</th>\n",
       "      <td>2012</td>\n",
       "      <td>India</td>\n",
       "      <td>67.289878</td>\n",
       "      <td>2.510000</td>\n",
       "      <td>1.263590e+09</td>\n",
       "      <td>1444.266598</td>\n",
       "      <td>South Asia</td>\n",
       "      <td>Lower middle income</td>\n",
       "    </tr>\n",
       "    <tr>\n",
       "      <th>4905</th>\n",
       "      <td>1966</td>\n",
       "      <td>India</td>\n",
       "      <td>45.018512</td>\n",
       "      <td>5.795000</td>\n",
       "      <td>5.084029e+08</td>\n",
       "      <td>91.796882</td>\n",
       "      <td>South Asia</td>\n",
       "      <td>Lower middle income</td>\n",
       "    </tr>\n",
       "    <tr>\n",
       "      <th>4906</th>\n",
       "      <td>1989</td>\n",
       "      <td>India</td>\n",
       "      <td>57.473049</td>\n",
       "      <td>4.132000</td>\n",
       "      <td>8.527362e+08</td>\n",
       "      <td>353.255489</td>\n",
       "      <td>South Asia</td>\n",
       "      <td>Lower middle income</td>\n",
       "    </tr>\n",
       "  </tbody>\n",
       "</table>\n",
       "</div>"
      ],
      "text/plain": [
       "      year country.name  life.expectancy  fertility.rate    population  \\\n",
       "4902  2015        India        58.216190        4.629113  1.311051e+09   \n",
       "4903  2009        India        66.102634        2.687000  1.214182e+09   \n",
       "4904  2012        India        67.289878        2.510000  1.263590e+09   \n",
       "4905  1966        India        45.018512        5.795000  5.084029e+08   \n",
       "4906  1989        India        57.473049        4.132000  8.527362e+08   \n",
       "\n",
       "      GDP.per.capita.Current.USD region.value    incomeLevel.value  \n",
       "4902                 1581.588913   South Asia  Lower middle income  \n",
       "4903                 1124.519446   South Asia  Lower middle income  \n",
       "4904                 1444.266598   South Asia  Lower middle income  \n",
       "4905                   91.796882   South Asia  Lower middle income  \n",
       "4906                  353.255489   South Asia  Lower middle income  "
      ]
     },
     "execution_count": 65,
     "metadata": {},
     "output_type": "execute_result"
    }
   ],
   "source": [
    "s3 = df[df['country.name'] == 'India']\n",
    "s3.head()"
   ]
  },
  {
   "cell_type": "code",
   "execution_count": 66,
   "id": "c69c4fb0",
   "metadata": {},
   "outputs": [
    {
     "data": {
      "text/plain": [
       "<AxesSubplot:xlabel='fertility.rate', ylabel='life.expectancy'>"
      ]
     },
     "execution_count": 66,
     "metadata": {},
     "output_type": "execute_result"
    },
    {
     "data": {
      "image/png": "[encoded data removed]",
      "text/plain": [
       "<Figure size 432x288 with 1 Axes>"
      ]
     },
     "metadata": {
      "needs_background": "light"
     },
     "output_type": "display_data"
    }
   ],
   "source": [
    "sns.scatterplot(x = s3['fertility.rate'],y = s3['life.expectancy'])"
   ]
  },
  {
   "cell_type": "markdown",
   "id": "33cf5a5a",
   "metadata": {},
   "source": [
    "Life expectancy is inversely proportional to fertility rate."
   ]
  },
  {
   "cell_type": "code",
   "execution_count": null,
   "id": "f132c2d2",
   "metadata": {},
   "outputs": [],
   "source": []
  },
  {
   "cell_type": "code",
   "execution_count": null,
   "id": "d1ab3731",
   "metadata": {},
   "outputs": [],
   "source": []
  }
 ],
 "metadata": {
  "kernelspec": {
   "display_name": "Python 3",
   "language": "python",
   "name": "python3"
  },
  "language_info": {
   "codemirror_mode": {
    "name": "ipython",
    "version": 3
   },
   "file_extension": ".py",
   "mimetype": "text/x-python",
   "name": "python",
   "nbconvert_exporter": "python",
   "pygments_lexer": "ipython3",
   "version": "3.8.8"
  }
 },
 "nbformat": 4,
 "nbformat_minor": 5
}
